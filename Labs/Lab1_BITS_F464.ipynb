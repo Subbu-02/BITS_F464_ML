{
  "cells": [
    {
      "cell_type": "markdown",
      "metadata": {
        "id": "g-ok8QbzOEX2"
      },
      "source": [
        "# LAB 1A - Python Basics"
      ]
    },
    {
      "cell_type": "markdown",
      "metadata": {
        "id": "eB3cagyZOEX7"
      },
      "source": [
        "Adapted for BITSF464 ML course from the `CS231n` Python tutorial by Justin Johnson (http://cs231n.github.io/python-numpy-tutorial/)."
      ]
    },
    {
      "cell_type": "markdown",
      "metadata": {
        "id": "A3nEHEZPOEX8"
      },
      "source": [
        "## Introduction"
      ]
    },
    {
      "cell_type": "markdown",
      "metadata": {
        "id": "UTaiofjjOEX9"
      },
      "source": [
        "Python is a great general-purpose programming language on its own, but with the help of a few popular libraries (numpy, scipy, matplotlib) it becomes a powerful environment for scientific computing.\n",
        "\n",
        "We expect that many of you will have some experience with Python and numpy; for the rest of you, this section will serve as a quick crash course both on the Python programming language and on the use of Python for scientific computing.\n"
      ]
    },
    {
      "cell_type": "markdown",
      "metadata": {
        "id": "PxPdkm55OEX9"
      },
      "source": [
        "In this tutorial, we will cover:\n",
        "\n",
        "* Basic Python: Basic data types (Containers, Lists, Dictionaries, Sets, Tuples), Functions, Classes\n",
        "* Numpy: Arrays, Array indexing, Datatypes, Array math, Broadcasting\n",
        "* Matplotlib: Plotting, Subplots, Images\n",
        "* IPython: Creating notebooks, Typical workflows"
      ]
    },
    {
      "cell_type": "markdown",
      "metadata": {
        "id": "pYoZisQWOEX-"
      },
      "source": [
        "## Basics of Python"
      ]
    },
    {
      "cell_type": "markdown",
      "metadata": {
        "id": "i3XA7IktOEX_"
      },
      "source": [
        "Python is a high-level, dynamically typed multiparadigm programming language. Python code is often said to be almost like pseudocode, since it allows you to express very powerful ideas in very few lines of code while being very readable. As an example, here is an implementation of the classic quicksort algorithm in Python:"
      ]
    },
    {
      "cell_type": "code",
      "execution_count": 2,
      "metadata": {
        "ExecuteTime": {
          "end_time": "2019-08-11T11:12:43.783775Z",
          "start_time": "2019-08-11T11:12:43.771350Z"
        },
        "colab": {
          "base_uri": "https://localhost:8080/"
        },
        "id": "u54Z8ninOEX_",
        "outputId": "874fc324-a582-41f1-a28d-a615e8ff5f01"
      },
      "outputs": [
        {
          "name": "stdout",
          "output_type": "stream",
          "text": [
            "[1, 1, 2, 3, 6, 8, 10]\n"
          ]
        }
      ],
      "source": [
        "def quicksort(arr):\n",
        "    if len(arr) <= 1:\n",
        "        return arr\n",
        "    pivot = arr[len(arr) // 2]\n",
        "    left = [x for x in arr if x < pivot]\n",
        "    middle = [x for x in arr if x == pivot]\n",
        "    right = [x for x in arr if x > pivot]\n",
        "    return quicksort(left) + middle + quicksort(right)\n",
        "\n",
        "print(quicksort([3,6,8,10,1,2,1]))"
      ]
    },
    {
      "cell_type": "markdown",
      "metadata": {
        "id": "-wPLmrwjOEYC"
      },
      "source": [
        "### Basic data types"
      ]
    },
    {
      "cell_type": "markdown",
      "metadata": {
        "id": "d3bq0M1NOEYD"
      },
      "source": [
        "#### Numbers"
      ]
    },
    {
      "cell_type": "markdown",
      "metadata": {
        "id": "ipPv43ijOEYD"
      },
      "source": [
        "Integers and floats work as you would expect from other languages:"
      ]
    },
    {
      "cell_type": "code",
      "execution_count": 3,
      "metadata": {
        "ExecuteTime": {
          "end_time": "2019-08-11T11:12:43.794660Z",
          "start_time": "2019-08-11T11:12:43.788709Z"
        },
        "colab": {
          "base_uri": "https://localhost:8080/"
        },
        "id": "eFbqDpcDOEYE",
        "outputId": "eb32de47-5f41-4fb0-d629-23aebf58281c"
      },
      "outputs": [
        {
          "name": "stdout",
          "output_type": "stream",
          "text": [
            "3 <class 'int'>\n"
          ]
        }
      ],
      "source": [
        "x = 3\n",
        "print(x, type(x))"
      ]
    },
    {
      "cell_type": "code",
      "execution_count": 4,
      "metadata": {
        "ExecuteTime": {
          "end_time": "2019-08-11T11:12:43.806564Z",
          "start_time": "2019-08-11T11:12:43.797141Z"
        },
        "colab": {
          "base_uri": "https://localhost:8080/"
        },
        "id": "9q3CuR-0OEYE",
        "outputId": "cf5263a6-da46-4551-ddf8-3ad31514092d"
      },
      "outputs": [
        {
          "name": "stdout",
          "output_type": "stream",
          "text": [
            "4\n",
            "2\n",
            "6\n",
            "9\n"
          ]
        }
      ],
      "source": [
        "print(x + 1)   # Addition;\n",
        "print(x - 1)   # Subtraction;\n",
        "print(x * 2)   # Multiplication;\n",
        "print(x ** 2)  # Exponentiation;"
      ]
    },
    {
      "cell_type": "code",
      "execution_count": 5,
      "metadata": {
        "ExecuteTime": {
          "end_time": "2019-08-11T11:12:43.818505Z",
          "start_time": "2019-08-11T11:12:43.809044Z"
        },
        "colab": {
          "base_uri": "https://localhost:8080/"
        },
        "id": "52XsnyW7OEYF",
        "outputId": "434f1dde-4bd9-4d15-c597-af82c8d5dee4"
      },
      "outputs": [
        {
          "name": "stdout",
          "output_type": "stream",
          "text": [
            "4\n",
            "8\n"
          ]
        }
      ],
      "source": [
        "x += 1\n",
        "print(x)  # Prints \"4\"\n",
        "x *= 2\n",
        "print(x)  # Prints \"8\""
      ]
    },
    {
      "cell_type": "code",
      "execution_count": 6,
      "metadata": {
        "ExecuteTime": {
          "end_time": "2019-08-11T11:12:43.831366Z",
          "start_time": "2019-08-11T11:12:43.821446Z"
        },
        "colab": {
          "base_uri": "https://localhost:8080/"
        },
        "id": "1hvA3rqtOEYF",
        "outputId": "09b9a9fa-aed3-4bc0-8d87-b6f9d160ebcc"
      },
      "outputs": [
        {
          "name": "stdout",
          "output_type": "stream",
          "text": [
            "<class 'float'>\n",
            "2.5 3.5 5.0 6.25\n"
          ]
        }
      ],
      "source": [
        "y = 2.5\n",
        "print(type(y)) # Prints \"<type 'float'>\"\n",
        "print(y, y + 1, y * 2, y ** 2) # Prints \"2.5 3.5 5.0 6.25\""
      ]
    },
    {
      "cell_type": "markdown",
      "metadata": {
        "id": "vCcup68xOEYG"
      },
      "source": [
        "Note that unlike many languages, Python does not have unary increment (x++) or decrement (x--) operators.\n",
        "\n",
        "Python also has built-in types for long integers and complex numbers; you can find all of the details in the [documentation](https://docs.python.org/2/library/stdtypes.html#numeric-types-int-float-long-complex)."
      ]
    },
    {
      "cell_type": "markdown",
      "metadata": {
        "id": "IpSh7YeOOEYG"
      },
      "source": [
        "#### Booleans"
      ]
    },
    {
      "cell_type": "markdown",
      "metadata": {
        "id": "akDVos5lOEYH"
      },
      "source": [
        "Python implements all of the usual operators for Boolean logic, but uses English words rather than symbols (`&&`, `||`, etc.):"
      ]
    },
    {
      "cell_type": "code",
      "execution_count": 7,
      "metadata": {
        "ExecuteTime": {
          "end_time": "2019-08-11T11:12:43.839312Z",
          "start_time": "2019-08-11T11:12:43.833350Z"
        },
        "colab": {
          "base_uri": "https://localhost:8080/"
        },
        "id": "u5lWzVL9OEYH",
        "outputId": "bc45b8fc-163b-42ed-840b-1694f9c5f196"
      },
      "outputs": [
        {
          "name": "stdout",
          "output_type": "stream",
          "text": [
            "<class 'bool'>\n"
          ]
        }
      ],
      "source": [
        "t, f = True, False\n",
        "print(type(t)) # Prints \"<type 'bool'>\""
      ]
    },
    {
      "cell_type": "markdown",
      "metadata": {
        "id": "DAbUPZXXOEYH"
      },
      "source": [
        "Now we let's look at the operations:"
      ]
    },
    {
      "cell_type": "code",
      "execution_count": 8,
      "metadata": {
        "ExecuteTime": {
          "end_time": "2019-08-11T11:12:43.850709Z",
          "start_time": "2019-08-11T11:12:43.841781Z"
        },
        "colab": {
          "base_uri": "https://localhost:8080/"
        },
        "id": "LWOEf5ecOEYI",
        "outputId": "1a5cc3a1-f6cc-4302-adef-3e4c8c095e76"
      },
      "outputs": [
        {
          "name": "stdout",
          "output_type": "stream",
          "text": [
            "False\n",
            "True\n",
            "False\n",
            "True\n"
          ]
        }
      ],
      "source": [
        "print(t and f) # Logical AND;\n",
        "print(t or f)  # Logical OR;\n",
        "print(not t)   # Logical NOT;\n",
        "print(t != f)  # Logical XOR;"
      ]
    },
    {
      "cell_type": "markdown",
      "metadata": {
        "id": "EJ3MQS6qOEYI"
      },
      "source": [
        "#### Strings"
      ]
    },
    {
      "cell_type": "code",
      "execution_count": 9,
      "metadata": {
        "ExecuteTime": {
          "end_time": "2019-08-11T11:12:43.859148Z",
          "start_time": "2019-08-11T11:12:43.852692Z"
        },
        "colab": {
          "base_uri": "https://localhost:8080/"
        },
        "id": "vv9envxkOEYI",
        "outputId": "50f83b6e-e5b4-4f46-bf2e-0811ab0ee81d"
      },
      "outputs": [
        {
          "name": "stdout",
          "output_type": "stream",
          "text": [
            "hello 5\n"
          ]
        }
      ],
      "source": [
        "hello = 'hello'   # String literals can use single quotes\n",
        "world = \"world\"   # or double quotes; it does not matter.\n",
        "print(hello, len(hello))"
      ]
    },
    {
      "cell_type": "code",
      "execution_count": 10,
      "metadata": {
        "ExecuteTime": {
          "end_time": "2019-08-11T11:12:43.868068Z",
          "start_time": "2019-08-11T11:12:43.861620Z"
        },
        "colab": {
          "base_uri": "https://localhost:8080/"
        },
        "id": "v2m5CF63OEYJ",
        "outputId": "fadc5191-d197-4660-af2c-00ea7e5ab821"
      },
      "outputs": [
        {
          "name": "stdout",
          "output_type": "stream",
          "text": [
            "hello world\n"
          ]
        }
      ],
      "source": [
        "hw = hello + ' ' + world  # String concatenation\n",
        "print(hw)  # prints \"hello world\""
      ]
    },
    {
      "cell_type": "code",
      "execution_count": 11,
      "metadata": {
        "ExecuteTime": {
          "end_time": "2019-08-11T11:12:43.876501Z",
          "start_time": "2019-08-11T11:12:43.869556Z"
        },
        "colab": {
          "base_uri": "https://localhost:8080/"
        },
        "id": "InH-Pi_mOEYJ",
        "outputId": "d902d7e1-5cd1-44ee-b2b7-062f466301c2"
      },
      "outputs": [
        {
          "name": "stdout",
          "output_type": "stream",
          "text": [
            "hello world 12\n"
          ]
        }
      ],
      "source": [
        "hw12 = '%s %s %d' % (hello, world, 12)  # sprintf style string formatting\n",
        "print(hw12)  # prints \"hello world 12\""
      ]
    },
    {
      "cell_type": "markdown",
      "metadata": {
        "id": "iOdNecYROEYK"
      },
      "source": [
        "String objects have a bunch of useful methods; for example:"
      ]
    },
    {
      "cell_type": "code",
      "execution_count": 12,
      "metadata": {
        "ExecuteTime": {
          "end_time": "2019-08-11T11:12:43.888403Z",
          "start_time": "2019-08-11T11:12:43.878486Z"
        },
        "colab": {
          "base_uri": "https://localhost:8080/"
        },
        "id": "7wWJR-miOEYK",
        "outputId": "3fab265a-2273-4230-b399-69ffae08547e"
      },
      "outputs": [
        {
          "name": "stdout",
          "output_type": "stream",
          "text": [
            "Hello\n",
            "HELLO\n",
            "  hello\n",
            " hello \n",
            "he(ell)(ell)o\n",
            "world\n"
          ]
        }
      ],
      "source": [
        "s = \"hello\"\n",
        "print(s.capitalize())  # Capitalize a string; prints \"Hello\"\n",
        "print(s.upper())       # Convert a string to uppercase; prints \"HELLO\"\n",
        "print(s.rjust(7))      # Right-justify a string, padding with spaces; prints \"  hello\"\n",
        "print(s.center(7))     # Center a string, padding with spaces; prints \" hello \"\n",
        "print(s.replace('l', '(ell)'))  # Replace all instances of one substring with another;\n",
        "                               # prints \"he(ell)(ell)o\"\n",
        "print('  world '.strip())  # Strip leading and trailing whitespace; prints \"world\""
      ]
    },
    {
      "cell_type": "markdown",
      "metadata": {
        "id": "ETWvmPqxOEYK"
      },
      "source": [
        "You can find a list of all string methods in the [documentation](https://docs.python.org/2/library/stdtypes.html#string-methods)."
      ]
    },
    {
      "cell_type": "markdown",
      "metadata": {
        "id": "w-VDo5ozOEYK"
      },
      "source": [
        "### Containers"
      ]
    },
    {
      "cell_type": "markdown",
      "metadata": {
        "id": "KFvw3xOrOEYL"
      },
      "source": [
        "Python includes several built-in container types: lists, dictionaries, sets, and tuples."
      ]
    },
    {
      "cell_type": "markdown",
      "metadata": {
        "id": "5rv9Biy6OEYL"
      },
      "source": [
        "#### Lists"
      ]
    },
    {
      "cell_type": "markdown",
      "metadata": {
        "id": "uJ5WCk2-OEYL"
      },
      "source": [
        "A list is the Python equivalent of an array, but is resizeable and can contain elements of different types:"
      ]
    },
    {
      "cell_type": "code",
      "execution_count": 13,
      "metadata": {
        "ExecuteTime": {
          "end_time": "2019-08-11T11:12:43.898325Z",
          "start_time": "2019-08-11T11:12:43.890886Z"
        },
        "colab": {
          "base_uri": "https://localhost:8080/"
        },
        "id": "BL4gEHKOOEYL",
        "outputId": "4b2d5984-2de2-4fda-a3a3-e29fc028a799"
      },
      "outputs": [
        {
          "name": "stdout",
          "output_type": "stream",
          "text": [
            "[3, 1, 2] 2\n",
            "2\n"
          ]
        }
      ],
      "source": [
        "xs = [3, 1, 2]   # Create a list\n",
        "print(xs, xs[2])\n",
        "print(xs[-1])     # Negative indices count from the end of the list; prints \"2\""
      ]
    },
    {
      "cell_type": "code",
      "execution_count": 14,
      "metadata": {
        "ExecuteTime": {
          "end_time": "2019-08-11T11:12:43.909237Z",
          "start_time": "2019-08-11T11:12:43.901300Z"
        },
        "colab": {
          "base_uri": "https://localhost:8080/"
        },
        "id": "cHJk_0nnOEYL",
        "outputId": "c9d8d8a8-2ad1-4195-afe2-70ac4cc40e03"
      },
      "outputs": [
        {
          "name": "stdout",
          "output_type": "stream",
          "text": [
            "[3, 1, 'foo']\n"
          ]
        }
      ],
      "source": [
        "xs[2] = 'foo'    # Lists can contain elements of different types\n",
        "print(xs)"
      ]
    },
    {
      "cell_type": "code",
      "execution_count": 15,
      "metadata": {
        "ExecuteTime": {
          "end_time": "2019-08-11T11:12:43.918174Z",
          "start_time": "2019-08-11T11:12:43.911222Z"
        },
        "colab": {
          "base_uri": "https://localhost:8080/"
        },
        "id": "oniS2gflOEYM",
        "outputId": "8a157395-30f6-4670-adcb-fa148cb76b3d"
      },
      "outputs": [
        {
          "name": "stdout",
          "output_type": "stream",
          "text": [
            "[3, 1, 'foo', 'bar']\n"
          ]
        }
      ],
      "source": [
        "xs.append('bar') # Add a new element to the end of the list\n",
        "print(xs)  "
      ]
    },
    {
      "cell_type": "code",
      "execution_count": 16,
      "metadata": {
        "ExecuteTime": {
          "end_time": "2019-08-11T11:12:43.927093Z",
          "start_time": "2019-08-11T11:12:43.920150Z"
        },
        "colab": {
          "base_uri": "https://localhost:8080/"
        },
        "id": "JGfZqp5dOEYM",
        "outputId": "69288a6c-def4-4d49-ab62-308227e33820"
      },
      "outputs": [
        {
          "name": "stdout",
          "output_type": "stream",
          "text": [
            "bar [3, 1, 'foo']\n"
          ]
        }
      ],
      "source": [
        "x = xs.pop()     # Remove and return the last element of the list\n",
        "print(x, xs) "
      ]
    },
    {
      "cell_type": "markdown",
      "metadata": {
        "id": "IUXamelrOEYM"
      },
      "source": [
        "As usual, you can find all the gory details about lists in the [documentation](https://docs.python.org/2/tutorial/datastructures.html#more-on-lists)."
      ]
    },
    {
      "cell_type": "markdown",
      "metadata": {
        "id": "31G11PAjOEYN"
      },
      "source": [
        "#### Slicing"
      ]
    },
    {
      "cell_type": "markdown",
      "metadata": {
        "id": "N3_LIKHDOEYN"
      },
      "source": [
        "In addition to accessing list elements one at a time, Python provides concise syntax to access sublists; this is known as slicing:"
      ]
    },
    {
      "cell_type": "code",
      "execution_count": 17,
      "metadata": {
        "ExecuteTime": {
          "end_time": "2019-08-11T11:12:43.938500Z",
          "start_time": "2019-08-11T11:12:43.929078Z"
        },
        "colab": {
          "base_uri": "https://localhost:8080/"
        },
        "id": "4HEbRRYuOEYN",
        "outputId": "a370b254-91e1-401e-a9eb-9b75b4369d0b"
      },
      "outputs": [
        {
          "name": "stdout",
          "output_type": "stream",
          "text": [
            "[0, 1, 2, 3, 4]\n",
            "[2, 3]\n",
            "[2, 3, 4]\n",
            "[0, 1]\n",
            "[0, 1, 2, 3, 4]\n",
            "[0, 1, 2, 3]\n",
            "[0, 1, 8, 9, 4]\n"
          ]
        }
      ],
      "source": [
        "nums = list(range(5))    # range is a built-in function that creates a list of integers\n",
        "print(nums)         # Prints \"[0, 1, 2, 3, 4]\"\n",
        "print(nums[2:4])    # Get a slice from index 2 to 4 (exclusive); prints \"[2, 3]\"\n",
        "print(nums[2:])     # Get a slice from index 2 to the end; prints \"[2, 3, 4]\"\n",
        "print(nums[:2])     # Get a slice from the start to index 2 (exclusive); prints \"[0, 1]\"\n",
        "print(nums[:])      # Get a slice of the whole list; prints [\"0, 1, 2, 3, 4]\"\n",
        "print(nums[:-1])    # Slice indices can be negative; prints [\"0, 1, 2, 3]\"\n",
        "nums[2:4] = [8, 9]  # Assign a new sublist to a slice\n",
        "print(nums)         # Prints \"[0, 1, 8, 9, 4]\""
      ]
    },
    {
      "cell_type": "markdown",
      "metadata": {
        "id": "pkNfOmW1OEYN"
      },
      "source": [
        "#### Loops"
      ]
    },
    {
      "cell_type": "markdown",
      "metadata": {
        "id": "wK4JwC1GOEYO"
      },
      "source": [
        "You can loop over the elements of a list like this:"
      ]
    },
    {
      "cell_type": "code",
      "execution_count": 18,
      "metadata": {
        "ExecuteTime": {
          "end_time": "2019-08-11T11:12:43.948422Z",
          "start_time": "2019-08-11T11:12:43.940486Z"
        },
        "colab": {
          "base_uri": "https://localhost:8080/"
        },
        "id": "p_8UK2iSOEYQ",
        "outputId": "961a9be8-2643-46e7-cd13-4b73351c76da"
      },
      "outputs": [
        {
          "name": "stdout",
          "output_type": "stream",
          "text": [
            "cat\n",
            "dog\n",
            "monkey\n"
          ]
        }
      ],
      "source": [
        "animals = ['cat', 'dog', 'monkey']\n",
        "for animal in animals:\n",
        "    print(animal)"
      ]
    },
    {
      "cell_type": "markdown",
      "metadata": {
        "id": "FQCbA4FCOEYR"
      },
      "source": [
        "If you want access to the index of each element within the body of a loop, use the built-in `enumerate` function:"
      ]
    },
    {
      "cell_type": "code",
      "execution_count": 19,
      "metadata": {
        "ExecuteTime": {
          "end_time": "2019-08-11T11:12:43.956358Z",
          "start_time": "2019-08-11T11:12:43.951893Z"
        },
        "colab": {
          "base_uri": "https://localhost:8080/"
        },
        "id": "Gy7YcUMiOEYR",
        "outputId": "591a60ef-ecd0-438a-d88f-ec8752eaa758"
      },
      "outputs": [
        {
          "name": "stdout",
          "output_type": "stream",
          "text": [
            "#1: cat\n",
            "#2: dog\n",
            "#3: monkey\n"
          ]
        }
      ],
      "source": [
        "animals = ['cat', 'dog', 'monkey']\n",
        "for idx, animal in enumerate(animals):\n",
        "    print('#%d: %s' % (idx + 1, animal))"
      ]
    },
    {
      "cell_type": "markdown",
      "metadata": {
        "id": "H8HvFzvMOEYR"
      },
      "source": [
        "#### List comprehensions:"
      ]
    },
    {
      "cell_type": "markdown",
      "metadata": {
        "id": "hfeLTKAZOEYR"
      },
      "source": [
        "When programming, frequently we want to transform one type of data into another. As a simple example, consider the following code that computes square numbers:"
      ]
    },
    {
      "cell_type": "code",
      "execution_count": 20,
      "metadata": {
        "ExecuteTime": {
          "end_time": "2019-08-11T11:12:43.973220Z",
          "start_time": "2019-08-11T11:12:43.959333Z"
        },
        "colab": {
          "base_uri": "https://localhost:8080/"
        },
        "id": "ZB8FQ3IWOEYS",
        "outputId": "7190bca8-651b-4572-a209-0ab7287285c2"
      },
      "outputs": [
        {
          "name": "stdout",
          "output_type": "stream",
          "text": [
            "[0, 1, 4, 9, 16]\n"
          ]
        }
      ],
      "source": [
        "nums = [0, 1, 2, 3, 4]\n",
        "squares = []\n",
        "for x in nums:\n",
        "    squares.append(x ** 2)\n",
        "print(squares)"
      ]
    },
    {
      "cell_type": "markdown",
      "metadata": {
        "id": "CovIoN3POEYS"
      },
      "source": [
        "You can make this code simpler using a list comprehension:"
      ]
    },
    {
      "cell_type": "code",
      "execution_count": 21,
      "metadata": {
        "ExecuteTime": {
          "end_time": "2019-08-11T11:12:43.984132Z",
          "start_time": "2019-08-11T11:12:43.975204Z"
        },
        "colab": {
          "base_uri": "https://localhost:8080/"
        },
        "id": "vtiEriE2OEYS",
        "outputId": "2f1e7632-2b9a-42cc-9285-12711613dd4d"
      },
      "outputs": [
        {
          "name": "stdout",
          "output_type": "stream",
          "text": [
            "[0, 1, 4, 9, 16]\n"
          ]
        }
      ],
      "source": [
        "nums = [0, 1, 2, 3, 4]\n",
        "squares = [x ** 2 for x in nums]\n",
        "print(squares)"
      ]
    },
    {
      "cell_type": "markdown",
      "metadata": {
        "id": "cDJdGiHxOEYT"
      },
      "source": [
        "List comprehensions can also contain conditions:"
      ]
    },
    {
      "cell_type": "code",
      "execution_count": 22,
      "metadata": {
        "ExecuteTime": {
          "end_time": "2019-08-11T11:12:43.993060Z",
          "start_time": "2019-08-11T11:12:43.986116Z"
        },
        "colab": {
          "base_uri": "https://localhost:8080/"
        },
        "id": "nYyrk2jrOEYT",
        "outputId": "647a5ee4-e69f-4ebe-bf88-b1ee31c56f91"
      },
      "outputs": [
        {
          "name": "stdout",
          "output_type": "stream",
          "text": [
            "[0, 4, 16]\n"
          ]
        }
      ],
      "source": [
        "nums = [0, 1, 2, 3, 4]\n",
        "even_squares = [x ** 2 for x in nums if x % 2 == 0]\n",
        "print(even_squares)"
      ]
    },
    {
      "cell_type": "markdown",
      "metadata": {
        "id": "bkFPUksOOEYT"
      },
      "source": [
        "#### Dictionaries"
      ]
    },
    {
      "cell_type": "markdown",
      "metadata": {
        "id": "71-mYRuSOEYT"
      },
      "source": [
        "A dictionary stores (key, value) pairs, similar to a `Map` in Java or an object in Javascript. You can use it like this:"
      ]
    },
    {
      "cell_type": "code",
      "execution_count": 23,
      "metadata": {
        "ExecuteTime": {
          "end_time": "2019-08-11T11:12:44.000996Z",
          "start_time": "2019-08-11T11:12:43.994549Z"
        },
        "colab": {
          "base_uri": "https://localhost:8080/"
        },
        "id": "Am61PoAFOEYT",
        "outputId": "37b0397e-f728-48e4-a028-516e0ddd53be"
      },
      "outputs": [
        {
          "name": "stdout",
          "output_type": "stream",
          "text": [
            "cute\n",
            "True\n"
          ]
        }
      ],
      "source": [
        "d = {'cat': 'cute', 'dog': 'furry'}  # Create a new dictionary with some data\n",
        "print(d['cat'])       # Get an entry from a dictionary; prints \"cute\"\n",
        "print('cat' in d)     # Check if a dictionary has a given key; prints \"True\""
      ]
    },
    {
      "cell_type": "code",
      "execution_count": 24,
      "metadata": {
        "ExecuteTime": {
          "end_time": "2019-08-11T11:12:44.010420Z",
          "start_time": "2019-08-11T11:12:44.002982Z"
        },
        "colab": {
          "base_uri": "https://localhost:8080/"
        },
        "id": "gyYTLU6bOEYU",
        "outputId": "7df34ef4-763f-416d-b98d-86822bd9a722"
      },
      "outputs": [
        {
          "name": "stdout",
          "output_type": "stream",
          "text": [
            "wet\n"
          ]
        }
      ],
      "source": [
        "d['fish'] = 'wet'    # Set an entry in a dictionary\n",
        "print(d['fish'])      # Prints \"wet\""
      ]
    },
    {
      "cell_type": "code",
      "execution_count": 25,
      "metadata": {
        "ExecuteTime": {
          "end_time": "2019-08-11T11:12:44.078372Z",
          "start_time": "2019-08-11T11:12:44.011907Z"
        },
        "colab": {
          "base_uri": "https://localhost:8080/",
          "height": 171
        },
        "id": "GpRT-3uxOEYU",
        "outputId": "17eb3135-1294-4ed3-a494-302aa11eb781"
      },
      "outputs": [
        {
          "ename": "KeyError",
          "evalue": "'monkey'",
          "output_type": "error",
          "traceback": [
            "\u001b[0;31m---------------------------------------------------------------------------\u001b[0m",
            "\u001b[0;31mKeyError\u001b[0m                                  Traceback (most recent call last)",
            "\u001b[0;32m<ipython-input-25-78fc9745d9cf>\u001b[0m in \u001b[0;36m<module>\u001b[0;34m\u001b[0m\n\u001b[0;32m----> 1\u001b[0;31m \u001b[0mprint\u001b[0m\u001b[0;34m(\u001b[0m\u001b[0md\u001b[0m\u001b[0;34m[\u001b[0m\u001b[0;34m'monkey'\u001b[0m\u001b[0;34m]\u001b[0m\u001b[0;34m)\u001b[0m  \u001b[0;31m# KeyError: 'monkey' not a key of d\u001b[0m\u001b[0;34m\u001b[0m\u001b[0;34m\u001b[0m\u001b[0m\n\u001b[0m",
            "\u001b[0;31mKeyError\u001b[0m: 'monkey'"
          ]
        }
      ],
      "source": [
        "print(d['monkey'])  # KeyError: 'monkey' not a key of d"
      ]
    },
    {
      "cell_type": "code",
      "execution_count": 26,
      "metadata": {
        "ExecuteTime": {
          "end_time": "2019-08-11T11:13:37.752558Z",
          "start_time": "2019-08-11T11:13:37.748551Z"
        },
        "colab": {
          "base_uri": "https://localhost:8080/"
        },
        "id": "tEKrsMnkOEYV",
        "outputId": "ade79d97-f3d3-46d7-8611-9bce32fa6044"
      },
      "outputs": [
        {
          "name": "stdout",
          "output_type": "stream",
          "text": [
            "N/A\n",
            "wet\n"
          ]
        }
      ],
      "source": [
        "print(d.get('monkey', 'N/A'))  # Get an element with a default; prints \"N/A\"\n",
        "print(d.get('fish', 'N/A'))    # Get an element with a default; prints \"wet\""
      ]
    },
    {
      "cell_type": "code",
      "execution_count": 27,
      "metadata": {
        "ExecuteTime": {
          "end_time": "2019-08-11T11:13:38.114200Z",
          "start_time": "2019-08-11T11:13:38.110737Z"
        },
        "colab": {
          "base_uri": "https://localhost:8080/"
        },
        "id": "6naXJInzOEYV",
        "outputId": "22f485b9-6d13-4c9c-8090-502d23f5b7a6"
      },
      "outputs": [
        {
          "name": "stdout",
          "output_type": "stream",
          "text": [
            "N/A\n"
          ]
        }
      ],
      "source": [
        "del d['fish']        # Remove an element from a dictionary\n",
        "print(d.get('fish', 'N/A')) # \"fish\" is no longer a key; prints \"N/A\""
      ]
    },
    {
      "cell_type": "markdown",
      "metadata": {
        "id": "xNQ59OTSOEYV"
      },
      "source": [
        "You can find all you need to know about dictionaries in the [documentation](https://docs.python.org/2/library/stdtypes.html#dict)."
      ]
    },
    {
      "cell_type": "markdown",
      "metadata": {
        "id": "JATEt8GJOEYV"
      },
      "source": [
        "It is easy to iterate over the keys in a dictionary:"
      ]
    },
    {
      "cell_type": "code",
      "execution_count": 28,
      "metadata": {
        "ExecuteTime": {
          "end_time": "2019-08-11T11:13:40.608300Z",
          "start_time": "2019-08-11T11:13:40.603844Z"
        },
        "colab": {
          "base_uri": "https://localhost:8080/"
        },
        "id": "Nr6xKRM3OEYW",
        "outputId": "72d67dce-170d-44ed-a003-c5541ae66813"
      },
      "outputs": [
        {
          "name": "stdout",
          "output_type": "stream",
          "text": [
            "A person has 2 legs\n",
            "A cat has 4 legs\n",
            "A spider has 8 legs\n"
          ]
        }
      ],
      "source": [
        "d = {'person': 2, 'cat': 4, 'spider': 8}\n",
        "for animal in d:\n",
        "    legs = d[animal]\n",
        "    print('A %s has %d legs' % (animal, legs))"
      ]
    },
    {
      "cell_type": "markdown",
      "metadata": {
        "id": "v8PNSRIgOEYW"
      },
      "source": [
        "If you want access to keys and their corresponding values, use the iteritems method:"
      ]
    },
    {
      "cell_type": "code",
      "execution_count": 29,
      "metadata": {
        "ExecuteTime": {
          "end_time": "2019-08-11T11:14:02.794550Z",
          "start_time": "2019-08-11T11:14:02.791052Z"
        },
        "colab": {
          "base_uri": "https://localhost:8080/"
        },
        "id": "gvh1ylkmOEYW",
        "outputId": "53e7afb3-5c85-4c5b-c4ee-2b6f156fb818"
      },
      "outputs": [
        {
          "name": "stdout",
          "output_type": "stream",
          "text": [
            "A person has 2 legs\n",
            "A cat has 4 legs\n",
            "A spider has 8 legs\n"
          ]
        }
      ],
      "source": [
        "d = {'person': 2, 'cat': 4, 'spider': 8}\n",
        "for animal, legs in d.items():\n",
        "    print('A %s has %d legs' % (animal, legs))"
      ]
    },
    {
      "cell_type": "markdown",
      "metadata": {
        "id": "ujTqO20eOEYW"
      },
      "source": [
        "Dictionary comprehensions: These are similar to list comprehensions, but allow you to easily construct dictionaries. For example:"
      ]
    },
    {
      "cell_type": "code",
      "execution_count": 30,
      "metadata": {
        "ExecuteTime": {
          "end_time": "2019-08-11T11:14:52.215800Z",
          "start_time": "2019-08-11T11:14:52.212329Z"
        },
        "colab": {
          "base_uri": "https://localhost:8080/"
        },
        "id": "9jigJwVNOEYW",
        "outputId": "d7be2a74-e53e-4817-dc6d-96c2ecda71b4"
      },
      "outputs": [
        {
          "name": "stdout",
          "output_type": "stream",
          "text": [
            "{0: 0, 2: 4, 4: 16}\n"
          ]
        }
      ],
      "source": [
        "nums = [0, 1, 2, 3, 4]\n",
        "even_num_to_square = {x: x ** 2 for x in nums if x % 2 == 0}\n",
        "print(even_num_to_square)"
      ]
    },
    {
      "cell_type": "markdown",
      "metadata": {
        "id": "6_K2rae1OEYX"
      },
      "source": [
        "#### Sets"
      ]
    },
    {
      "cell_type": "markdown",
      "metadata": {
        "id": "KzKr9oHEOEYX"
      },
      "source": [
        "A set is an unordered collection of distinct elements. As a simple example, consider the following:"
      ]
    },
    {
      "cell_type": "code",
      "execution_count": 31,
      "metadata": {
        "ExecuteTime": {
          "end_time": "2019-08-11T11:14:53.866584Z",
          "start_time": "2019-08-11T11:14:53.863113Z"
        },
        "colab": {
          "base_uri": "https://localhost:8080/"
        },
        "id": "f3LGav3OOEYX",
        "outputId": "07a4cb54-8169-4a9e-c22a-f801273d0ba5"
      },
      "outputs": [
        {
          "name": "stdout",
          "output_type": "stream",
          "text": [
            "True\n",
            "False\n"
          ]
        }
      ],
      "source": [
        "animals = {'cat', 'dog'}\n",
        "print('cat' in animals)  # Check if an element is in a set; prints \"True\"\n",
        "print('fish' in animals) # prints \"False\"\n"
      ]
    },
    {
      "cell_type": "code",
      "execution_count": 32,
      "metadata": {
        "ExecuteTime": {
          "end_time": "2019-08-11T11:14:54.668774Z",
          "start_time": "2019-08-11T11:14:54.664805Z"
        },
        "colab": {
          "base_uri": "https://localhost:8080/"
        },
        "id": "qz_xxOZkOEYX",
        "outputId": "a857eae7-c48d-4c43-f09f-f6b076d2a30a"
      },
      "outputs": [
        {
          "name": "stdout",
          "output_type": "stream",
          "text": [
            "True\n",
            "3\n"
          ]
        }
      ],
      "source": [
        "animals.add('fish')      # Add an element to a set\n",
        "print('fish' in animals)\n",
        "print(len(animals))      # Number of elements in a set;"
      ]
    },
    {
      "cell_type": "code",
      "execution_count": 33,
      "metadata": {
        "ExecuteTime": {
          "end_time": "2019-08-11T11:14:55.156534Z",
          "start_time": "2019-08-11T11:14:55.151572Z"
        },
        "colab": {
          "base_uri": "https://localhost:8080/"
        },
        "id": "XcUUjUC3OEYY",
        "outputId": "8b2b6032-d9bd-4d96-c4a1-9886924e3602"
      },
      "outputs": [
        {
          "name": "stdout",
          "output_type": "stream",
          "text": [
            "3\n",
            "2\n"
          ]
        }
      ],
      "source": [
        "animals.add('cat')       # Adding an element that is already in the set does nothing\n",
        "print(len(animals))       \n",
        "animals.remove('cat')    # Remove an element from a set\n",
        "print(len(animals))       "
      ]
    },
    {
      "cell_type": "markdown",
      "metadata": {
        "id": "QV-m0_E-OEYY"
      },
      "source": [
        "_Loops_: Iterating over a set has the same syntax as iterating over a list; however since sets are unordered, you cannot make assumptions about the order in which you visit the elements of the set:"
      ]
    },
    {
      "cell_type": "code",
      "execution_count": 34,
      "metadata": {
        "ExecuteTime": {
          "end_time": "2019-08-11T11:14:56.395112Z",
          "start_time": "2019-08-11T11:14:56.391159Z"
        },
        "colab": {
          "base_uri": "https://localhost:8080/"
        },
        "id": "KzViBGxFOEYY",
        "outputId": "8435f2d4-4e83-4ad3-f9b4-76946742d185"
      },
      "outputs": [
        {
          "name": "stdout",
          "output_type": "stream",
          "text": [
            "#1: dog\n",
            "#2: fish\n",
            "#3: cat\n"
          ]
        }
      ],
      "source": [
        "animals = {'cat', 'dog', 'fish'}\n",
        "for idx, animal in enumerate(animals):\n",
        "    print('#%d: %s' % (idx + 1, animal))\n",
        "# Prints \"#1: fish\", \"#2: dog\", \"#3: cat\""
      ]
    },
    {
      "cell_type": "markdown",
      "metadata": {
        "id": "c39KHLwoOEYY"
      },
      "source": [
        "Set comprehensions: Like lists and dictionaries, we can easily construct sets using set comprehensions:"
      ]
    },
    {
      "cell_type": "code",
      "execution_count": 35,
      "metadata": {
        "ExecuteTime": {
          "end_time": "2019-08-11T11:14:57.192180Z",
          "start_time": "2019-08-11T11:14:57.188239Z"
        },
        "colab": {
          "base_uri": "https://localhost:8080/"
        },
        "id": "BWll8twOOEYY",
        "outputId": "0a349ef9-d817-49e0-892b-564eb07de514"
      },
      "outputs": [
        {
          "name": "stdout",
          "output_type": "stream",
          "text": [
            "{0, 1, 2, 3, 4, 5}\n"
          ]
        }
      ],
      "source": [
        "from math import sqrt\n",
        "print({int(sqrt(x)) for x in range(30)})"
      ]
    },
    {
      "cell_type": "markdown",
      "metadata": {
        "id": "IaIKkChsOEYZ"
      },
      "source": [
        "#### Tuples"
      ]
    },
    {
      "cell_type": "markdown",
      "metadata": {
        "id": "V46l-YZnOEYZ"
      },
      "source": [
        "A tuple is an (immutable) ordered list of values. A tuple is in many ways similar to a list; one of the most important differences is that tuples can be used as keys in dictionaries and as elements of sets, while lists cannot. Here is a trivial example:"
      ]
    },
    {
      "cell_type": "code",
      "execution_count": 38,
      "metadata": {
        "ExecuteTime": {
          "end_time": "2019-08-11T11:14:58.783332Z",
          "start_time": "2019-08-11T11:14:58.778397Z"
        },
        "colab": {
          "base_uri": "https://localhost:8080/"
        },
        "id": "pfn7MW0qOEYZ",
        "outputId": "f835a839-0be9-41c0-8142-7d64a05fc67c"
      },
      "outputs": [
        {
          "name": "stdout",
          "output_type": "stream",
          "text": [
            "<class 'tuple'>\n",
            "5\n",
            "1\n",
            "{(0, 1): 0, (1, 2): 1, (2, 3): 2, (3, 4): 3, (4, 5): 4, (5, 6): 5, (6, 7): 6, (7, 8): 7, (8, 9): 8, (9, 10): 9}\n"
          ]
        }
      ],
      "source": [
        "d = {(x, x + 1): x for x in range(10)}  # Create a dictionary with tuple keys\n",
        "t = (5, 6)       # Create a tuple\n",
        "print(type(t))\n",
        "print(d[t])       \n",
        "print(d[(1, 2)])\n",
        "print(d)"
      ]
    },
    {
      "cell_type": "code",
      "execution_count": 39,
      "metadata": {
        "ExecuteTime": {
          "end_time": "2019-08-11T11:14:59.504456Z",
          "start_time": "2019-08-11T11:14:59.497016Z"
        },
        "colab": {
          "base_uri": "https://localhost:8080/"
        },
        "id": "VnYXYETgOEYZ",
        "outputId": "fe490ef2-633b-4e82-a560-d22d286759fa"
      },
      "outputs": [
        {
          "name": "stdout",
          "output_type": "stream",
          "text": [
            "TypeError encoutered.\n"
          ]
        }
      ],
      "source": [
        "try:\n",
        "  t[0] = 1  # TypeError: 'tuple' object does not support item assignment (because they are immutable)\n",
        "except TypeError:\n",
        "  print('TypeError encoutered.')\n",
        "except:\n",
        "  print('Some other error encountered.')\n"
      ]
    },
    {
      "cell_type": "markdown",
      "metadata": {
        "id": "edcCIXEWOEYa"
      },
      "source": [
        "### Functions"
      ]
    },
    {
      "cell_type": "markdown",
      "metadata": {
        "id": "a0Hi0ROMOEYa"
      },
      "source": [
        "Python functions are defined using the `def` keyword. For example:"
      ]
    },
    {
      "cell_type": "code",
      "execution_count": 40,
      "metadata": {
        "ExecuteTime": {
          "end_time": "2019-08-11T11:17:51.600341Z",
          "start_time": "2019-08-11T11:17:51.594883Z"
        },
        "colab": {
          "base_uri": "https://localhost:8080/"
        },
        "id": "IbUahIcHOEYa",
        "outputId": "d14db7e5-6374-49f8-cdfc-fce16ac0bb43"
      },
      "outputs": [
        {
          "name": "stdout",
          "output_type": "stream",
          "text": [
            "negative\n",
            "zero\n",
            "positive\n"
          ]
        }
      ],
      "source": [
        "def sign(x):\n",
        "    if x > 0:\n",
        "        return 'positive'\n",
        "    elif x < 0:\n",
        "        return 'negative'\n",
        "    else:\n",
        "        return 'zero'\n",
        "\n",
        "for x in [-1, 0, 1]:\n",
        "    print(sign(x))"
      ]
    },
    {
      "cell_type": "markdown",
      "metadata": {
        "id": "u-KzXX6YOEYa"
      },
      "source": [
        "We will often define functions to take optional keyword arguments, like this:"
      ]
    },
    {
      "cell_type": "code",
      "execution_count": 41,
      "metadata": {
        "ExecuteTime": {
          "end_time": "2019-08-11T11:17:53.239416Z",
          "start_time": "2019-08-11T11:17:53.234456Z"
        },
        "colab": {
          "base_uri": "https://localhost:8080/"
        },
        "id": "ewqluGOIOEYa",
        "outputId": "ddad94ec-1f71-47bb-e039-b143fb76f987"
      },
      "outputs": [
        {
          "name": "stdout",
          "output_type": "stream",
          "text": [
            "Hello, Bob!\n",
            "HELLO, FRED\n"
          ]
        }
      ],
      "source": [
        "def hello(name, loud=False):\n",
        "    if loud:\n",
        "        print('HELLO, %s' % name.upper())\n",
        "    else:\n",
        "        print('Hello, %s!' % name)\n",
        "\n",
        "hello('Bob')\n",
        "hello('Fred', loud=True)"
      ]
    },
    {
      "cell_type": "markdown",
      "metadata": {
        "id": "9o4Gc7KjOEYb"
      },
      "source": [
        "### Classes"
      ]
    },
    {
      "cell_type": "markdown",
      "metadata": {
        "id": "NEkJVNVfOEYb"
      },
      "source": [
        "The syntax for defining classes in Python is straightforward:"
      ]
    },
    {
      "cell_type": "code",
      "execution_count": 42,
      "metadata": {
        "ExecuteTime": {
          "end_time": "2019-08-11T11:17:57.347953Z",
          "start_time": "2019-08-11T11:17:57.342993Z"
        },
        "colab": {
          "base_uri": "https://localhost:8080/"
        },
        "id": "IMKNrnqOOEYb",
        "outputId": "a2a9d5bd-9041-4a1f-f1c4-ec8ac116a7b9"
      },
      "outputs": [
        {
          "name": "stdout",
          "output_type": "stream",
          "text": [
            "Hello, Fred\n",
            "HELLO, FRED!\n"
          ]
        }
      ],
      "source": [
        "class Greeter:\n",
        "\n",
        "    # Constructor\n",
        "    def __init__(self, name):\n",
        "        self.name = name  # Create an instance variable\n",
        "\n",
        "    # Instance method\n",
        "    def greet(self, loud=False):\n",
        "        if loud:\n",
        "            print('HELLO, %s!' % self.name.upper())\n",
        "        else:\n",
        "            print('Hello, %s' % self.name)\n",
        "\n",
        "g = Greeter('Fred')  # Construct an instance of the Greeter class\n",
        "g.greet()            # Call an instance method; prints \"Hello, Fred\"\n",
        "g.greet(loud=True)   # Call an instance method; prints \"HELLO, FRED!\""
      ]
    },
    {
      "cell_type": "code",
      "execution_count": null,
      "metadata": {
        "id": "Kbmw3U25OEYb"
      },
      "outputs": [],
      "source": []
    },
    {
      "cell_type": "markdown",
      "metadata": {
        "id": "7XkulyauOL9e"
      },
      "source": [
        "# LAB 1B - NumPy"
      ]
    },
    {
      "cell_type": "markdown",
      "metadata": {
        "id": "oY36oa4XOL9h"
      },
      "source": [
        "Numpy is the core library for scientific computing in Python. It provides a high-performance multidimensional array object, and tools for working with these arrays. If you are already familiar with MATLAB, you might find this [tutorial](http://wiki.scipy.org/NumPy_for_Matlab_Users) useful to get started with Numpy."
      ]
    },
    {
      "cell_type": "markdown",
      "metadata": {
        "id": "hqd7dzhgOL9i"
      },
      "source": [
        "To use Numpy, we first need to import the `numpy` package:"
      ]
    },
    {
      "cell_type": "code",
      "execution_count": null,
      "metadata": {
        "ExecuteTime": {
          "end_time": "2019-08-11T11:17:59.546234Z",
          "start_time": "2019-08-11T11:17:59.543260Z"
        },
        "id": "v6fnkI31OL9i"
      },
      "outputs": [],
      "source": [
        "import numpy as np"
      ]
    },
    {
      "cell_type": "markdown",
      "metadata": {
        "id": "JjNn27q6OL9j"
      },
      "source": [
        "### Arrays"
      ]
    },
    {
      "cell_type": "markdown",
      "metadata": {
        "id": "JDLgFBLoOL9k"
      },
      "source": [
        "A numpy array is a grid of values, all of the same type, and is indexed by a tuple of nonnegative integers. The number of dimensions is the rank of the array; the shape of an array is a tuple of integers giving the size of the array along each dimension."
      ]
    },
    {
      "cell_type": "markdown",
      "metadata": {
        "id": "zy6NclWSOL9k"
      },
      "source": [
        "We can initialize numpy arrays from nested Python lists, and access elements using square brackets:"
      ]
    },
    {
      "cell_type": "code",
      "execution_count": null,
      "metadata": {
        "ExecuteTime": {
          "end_time": "2019-08-11T11:18:31.700122Z",
          "start_time": "2019-08-11T11:18:31.692710Z"
        },
        "colab": {
          "base_uri": "https://localhost:8080/"
        },
        "id": "FiZ7EdrGOL9k",
        "outputId": "be5f752a-1d89-4cab-d806-020b76de6fb8"
      },
      "outputs": [],
      "source": [
        "a = np.array([1, 2, 3])  # Create a rank 1 array\n",
        "print(type(a), a.shape, a[0], a[1], a[2])\n",
        "a[0] = 5                 # Change an element of the array\n",
        "print(a)                  "
      ]
    },
    {
      "cell_type": "code",
      "execution_count": null,
      "metadata": {
        "ExecuteTime": {
          "end_time": "2019-08-11T11:18:57.523038Z",
          "start_time": "2019-08-11T11:18:57.518098Z"
        },
        "colab": {
          "base_uri": "https://localhost:8080/"
        },
        "id": "2ZxLSV_XOL9m",
        "outputId": "70063465-c93f-443c-ff78-caf72b075a0e"
      },
      "outputs": [],
      "source": [
        "b = np.array([[1,2,3],[4,5,6]])   # Create a rank 2 array\n",
        "print(b)"
      ]
    },
    {
      "cell_type": "code",
      "execution_count": null,
      "metadata": {
        "ExecuteTime": {
          "end_time": "2019-08-11T11:19:05.481405Z",
          "start_time": "2019-08-11T11:19:05.477464Z"
        },
        "colab": {
          "base_uri": "https://localhost:8080/"
        },
        "id": "vKzXszSvOL9m",
        "outputId": "b15f55b9-3ff9-48f8-ed66-43691813caca"
      },
      "outputs": [],
      "source": [
        "print(b.shape)                   \n",
        "print(b[0, 0], b[0, 1], b[1, 0])"
      ]
    },
    {
      "cell_type": "markdown",
      "metadata": {
        "id": "XhOk_RdiOL9m"
      },
      "source": [
        "Numpy also provides many functions to create arrays:"
      ]
    },
    {
      "cell_type": "code",
      "execution_count": null,
      "metadata": {
        "ExecuteTime": {
          "end_time": "2019-08-11T11:19:10.085680Z",
          "start_time": "2019-08-11T11:19:10.081712Z"
        },
        "colab": {
          "base_uri": "https://localhost:8080/"
        },
        "id": "IQavVBAbOL9n",
        "outputId": "22e4917e-378f-437a-eb93-ad11a310112c"
      },
      "outputs": [],
      "source": [
        "a = np.zeros((2,2))  # Create an array of all zeros\n",
        "print(a)"
      ]
    },
    {
      "cell_type": "code",
      "execution_count": null,
      "metadata": {
        "ExecuteTime": {
          "end_time": "2019-08-11T11:19:10.921030Z",
          "start_time": "2019-08-11T11:19:10.917083Z"
        },
        "colab": {
          "base_uri": "https://localhost:8080/"
        },
        "id": "XyzO8xnzOL9n",
        "outputId": "27758e9e-5e80-4cbb-b529-206e45580da5"
      },
      "outputs": [],
      "source": [
        "b = np.ones((1,2))   # Create an array of all ones\n",
        "print(b)"
      ]
    },
    {
      "cell_type": "code",
      "execution_count": null,
      "metadata": {
        "ExecuteTime": {
          "end_time": "2019-08-11T11:19:18.286090Z",
          "start_time": "2019-08-11T11:19:18.280632Z"
        },
        "colab": {
          "base_uri": "https://localhost:8080/"
        },
        "id": "IunNDK0rOL9n",
        "outputId": "ccc3f65c-0b4a-48f2-f4d4-3d23ad1f410a"
      },
      "outputs": [],
      "source": [
        "c = np.full((2,2), 7) # Create a constant array\n",
        "print(c) "
      ]
    },
    {
      "cell_type": "code",
      "execution_count": null,
      "metadata": {
        "ExecuteTime": {
          "end_time": "2019-08-11T11:19:20.679888Z",
          "start_time": "2019-08-11T11:19:20.672960Z"
        },
        "colab": {
          "base_uri": "https://localhost:8080/"
        },
        "id": "PgxLpdeNOL9n",
        "outputId": "9eb2432f-f4e6-4077-bfb5-4b827996af62"
      },
      "outputs": [],
      "source": [
        "d = np.eye(2)        # Create a 2x2 identity matrix\n",
        "print(d)"
      ]
    },
    {
      "cell_type": "code",
      "execution_count": null,
      "metadata": {
        "ExecuteTime": {
          "end_time": "2019-08-11T11:19:22.471933Z",
          "start_time": "2019-08-11T11:19:22.464990Z"
        },
        "colab": {
          "base_uri": "https://localhost:8080/"
        },
        "id": "6CZ-WxbQOL9o",
        "outputId": "04d1ee51-950c-4882-b39f-fd106c4157ec"
      },
      "outputs": [],
      "source": [
        "e = np.random.random((2,2)) # Create an array filled with random values\n",
        "print(e)"
      ]
    },
    {
      "cell_type": "markdown",
      "metadata": {
        "id": "P1_oZ_yDOL9o"
      },
      "source": [
        "### Array indexing"
      ]
    },
    {
      "cell_type": "markdown",
      "metadata": {
        "id": "2aAER-hlOL9o"
      },
      "source": [
        "Numpy offers several ways to index into arrays."
      ]
    },
    {
      "cell_type": "markdown",
      "metadata": {
        "id": "2CcfjyciOL9o"
      },
      "source": [
        "Slicing: Similar to Python lists, numpy arrays can be sliced. Since arrays may be multidimensional, you must specify a slice for each dimension of the array:"
      ]
    },
    {
      "cell_type": "code",
      "execution_count": null,
      "metadata": {
        "ExecuteTime": {
          "end_time": "2019-08-11T11:19:26.149362Z",
          "start_time": "2019-08-11T11:19:26.143411Z"
        },
        "colab": {
          "base_uri": "https://localhost:8080/"
        },
        "id": "bEoT1J_DOL9o",
        "outputId": "e8529f4a-e332-4755-80a0-03a9c550fb4a"
      },
      "outputs": [],
      "source": [
        "import numpy as np\n",
        "\n",
        "# Create the following rank 2 array with shape (3, 4)\n",
        "# [[ 1  2  3  4]\n",
        "#  [ 5  6  7  8]\n",
        "#  [ 9 10 11 12]]\n",
        "a = np.array([[1,2,3,4], [5,6,7,8], [9,10,11,12]])\n",
        "\n",
        "# Use slicing to pull out the subarray consisting of the first 2 rows\n",
        "# and columns 1 and 2; b is the following array of shape (2, 2):\n",
        "# [[2 3]\n",
        "#  [6 7]]\n",
        "b = a[:2, 1:3]\n",
        "print(b)"
      ]
    },
    {
      "cell_type": "markdown",
      "metadata": {
        "id": "i2r-BsnoOL9p"
      },
      "source": [
        "A slice of an array is a view into the same data, so modifying it will modify the original array."
      ]
    },
    {
      "cell_type": "code",
      "execution_count": null,
      "metadata": {
        "ExecuteTime": {
          "end_time": "2019-08-11T11:19:27.338125Z",
          "start_time": "2019-08-11T11:19:27.333659Z"
        },
        "colab": {
          "base_uri": "https://localhost:8080/"
        },
        "id": "Aa1L4olgOL9p",
        "outputId": "5efd2f12-c083-4a22-e2a7-aa64f7ac0965"
      },
      "outputs": [],
      "source": [
        "print(a[0, 1])  \n",
        "b[0, 0] = 77    # b[0, 0] is the same piece of data as a[0, 1]\n",
        "print(a[0, 1])"
      ]
    },
    {
      "cell_type": "markdown",
      "metadata": {
        "id": "hQ4sSgQsOL9p"
      },
      "source": [
        "You can also mix integer indexing with slice indexing. However, doing so will yield an array of lower rank than the original array. Note that this is quite different from the way that MATLAB handles array slicing:"
      ]
    },
    {
      "cell_type": "code",
      "execution_count": null,
      "metadata": {
        "ExecuteTime": {
          "end_time": "2019-08-11T11:19:28.414116Z",
          "start_time": "2019-08-11T11:19:28.410645Z"
        },
        "colab": {
          "base_uri": "https://localhost:8080/"
        },
        "id": "OdMecg_zOL9q",
        "outputId": "b177c31f-b0c9-4b32-bd88-fe6c3ab64dd2"
      },
      "outputs": [],
      "source": [
        "# Create the following rank 2 array with shape (3, 4)\n",
        "a = np.array([[1,2,3,4], [5,6,7,8], [9,10,11,12]])\n",
        "print(a)"
      ]
    },
    {
      "cell_type": "markdown",
      "metadata": {
        "id": "epxTt6W9OL9q"
      },
      "source": [
        "Two ways of accessing the data in the middle row of the array.\n",
        "Mixing integer indexing with slices yields an array of lower rank,\n",
        "while using only slices yields an array of the same rank as the\n",
        "original array:"
      ]
    },
    {
      "cell_type": "code",
      "execution_count": null,
      "metadata": {
        "ExecuteTime": {
          "end_time": "2019-08-11T11:19:29.500542Z",
          "start_time": "2019-08-11T11:19:29.494095Z"
        },
        "colab": {
          "base_uri": "https://localhost:8080/"
        },
        "id": "E-Psa-4zOL9q",
        "outputId": "c9d4d94a-e1db-4ace-86d9-455b734ff4e1"
      },
      "outputs": [],
      "source": [
        "row_r1 = a[1, :]    # Rank 1 view of the second row of a  \n",
        "row_r2 = a[1:2, :]  # Rank 2 view of the second row of a\n",
        "row_r3 = a[[1], :]  # Rank 2 view of the second row of a\n",
        "print(row_r1, row_r1.shape) \n",
        "print(row_r2, row_r2.shape)\n",
        "print(row_r3, row_r3.shape)"
      ]
    },
    {
      "cell_type": "code",
      "execution_count": null,
      "metadata": {
        "ExecuteTime": {
          "end_time": "2019-08-11T11:19:30.065207Z",
          "start_time": "2019-08-11T11:19:30.059779Z"
        },
        "colab": {
          "base_uri": "https://localhost:8080/"
        },
        "id": "PhXQd91YOL9r",
        "outputId": "2a16cce7-a0fe-49b8-8d6e-598f1fd215cc"
      },
      "outputs": [],
      "source": [
        "# We can make the same distinction when accessing columns of an array:\n",
        "col_r1 = a[:, 1]\n",
        "col_r2 = a[:, 1:2]\n",
        "print(col_r1, col_r1.shape)\n",
        "print()\n",
        "print(col_r2, col_r2.shape)"
      ]
    },
    {
      "cell_type": "markdown",
      "metadata": {
        "id": "iE4Hx0fbOL9r"
      },
      "source": [
        "Integer array indexing: When you index into numpy arrays using slicing, the resulting array view will always be a subarray of the original array. In contrast, integer array indexing allows you to construct arbitrary arrays using the data from another array. Here is an example:"
      ]
    },
    {
      "cell_type": "code",
      "execution_count": null,
      "metadata": {
        "ExecuteTime": {
          "end_time": "2019-08-11T11:19:31.089076Z",
          "start_time": "2019-08-11T11:19:31.083152Z"
        },
        "colab": {
          "base_uri": "https://localhost:8080/"
        },
        "id": "zvpbtTQ2OL9r",
        "outputId": "10e11551-dfb7-44c6-efe7-97ca6a47a83c"
      },
      "outputs": [],
      "source": [
        "a = np.array([[1,2], [3, 4], [5, 6]])\n",
        "\n",
        "# An example of integer array indexing.\n",
        "# The returned array will have shape (3,) and \n",
        "print(a[[0, 1, 2], [0, 1, 0]])\n",
        "\n",
        "# The above example of integer array indexing is equivalent to this:\n",
        "print(np.array([a[0, 0], a[1, 1], a[2, 0]]))"
      ]
    },
    {
      "cell_type": "code",
      "execution_count": null,
      "metadata": {
        "ExecuteTime": {
          "end_time": "2019-08-11T11:19:31.793662Z",
          "start_time": "2019-08-11T11:19:31.788235Z"
        },
        "colab": {
          "base_uri": "https://localhost:8080/"
        },
        "id": "PqBLqGmROL9r",
        "outputId": "4081f00b-7908-4240-849f-570b150522d9"
      },
      "outputs": [],
      "source": [
        "# When using integer array indexing, you can reuse the same\n",
        "# element from the source array:\n",
        "print(a[[0, 0], [1, 1]])\n",
        "\n",
        "# Equivalent to the previous integer array indexing example\n",
        "print(np.array([a[0, 1], a[0, 1]]))"
      ]
    },
    {
      "cell_type": "markdown",
      "metadata": {
        "id": "I6HVwo36OL9s"
      },
      "source": [
        "One useful trick with integer array indexing is selecting or mutating one element from each row of a matrix:"
      ]
    },
    {
      "cell_type": "code",
      "execution_count": null,
      "metadata": {
        "ExecuteTime": {
          "end_time": "2019-08-11T11:19:33.110497Z",
          "start_time": "2019-08-11T11:19:33.105558Z"
        },
        "colab": {
          "base_uri": "https://localhost:8080/"
        },
        "id": "5NSvTmpQOL9s",
        "outputId": "68429738-fd7a-4e72-d0d4-fbf84e480dce"
      },
      "outputs": [],
      "source": [
        "# Create a new array from which we will select elements\n",
        "a = np.array([[1,2,3], [4,5,6], [7,8,9], [10, 11, 12]])\n",
        "print(a)"
      ]
    },
    {
      "cell_type": "code",
      "execution_count": null,
      "metadata": {
        "ExecuteTime": {
          "end_time": "2019-08-11T11:19:33.742822Z",
          "start_time": "2019-08-11T11:19:33.738855Z"
        },
        "colab": {
          "base_uri": "https://localhost:8080/"
        },
        "id": "RXUvD9RzOL9s",
        "outputId": "0ac2df4a-7ca4-4114-d93f-1a3161ad2a9a"
      },
      "outputs": [],
      "source": [
        "# Create an array of indices\n",
        "b = np.array([0, 2, 0, 1])\n",
        "\n",
        "# Select one element from each row of a using the indices in b\n",
        "print(a[np.arange(4), b])  # Prints \"[ 1  6  7 11]\""
      ]
    },
    {
      "cell_type": "code",
      "execution_count": null,
      "metadata": {
        "ExecuteTime": {
          "end_time": "2019-08-11T11:19:34.407939Z",
          "start_time": "2019-08-11T11:19:34.400996Z"
        },
        "colab": {
          "base_uri": "https://localhost:8080/"
        },
        "id": "3f5h6mVOOL9t",
        "outputId": "b208dd79-555a-4523-e6ed-8a74f23487ec"
      },
      "outputs": [],
      "source": [
        "# Mutate one element from each row of a using the indices in b\n",
        "a[np.arange(4), b] += 10\n",
        "print(a)"
      ]
    },
    {
      "cell_type": "markdown",
      "metadata": {
        "id": "OBvUWJ9sOL9t"
      },
      "source": [
        "Boolean array indexing: Boolean array indexing lets you pick out arbitrary elements of an array. Frequently this type of indexing is used to select the elements of an array that satisfy some condition. Here is an example:"
      ]
    },
    {
      "cell_type": "code",
      "execution_count": null,
      "metadata": {
        "ExecuteTime": {
          "end_time": "2019-08-11T11:19:35.525595Z",
          "start_time": "2019-08-11T11:19:35.519146Z"
        },
        "colab": {
          "base_uri": "https://localhost:8080/"
        },
        "id": "-dGih0T0OL9t",
        "outputId": "bfeadb00-03c8-48cd-aff7-812c5f38d4bc"
      },
      "outputs": [],
      "source": [
        "import numpy as np\n",
        "\n",
        "a = np.array([[1,2], [3, 4], [5, 6]])\n",
        "\n",
        "bool_idx = (a > 2)  # Find the elements of a that are bigger than 2;\n",
        "                    # this returns a numpy array of Booleans of the same\n",
        "                    # shape as a, where each slot of bool_idx tells\n",
        "                    # whether that element of a is > 2.\n",
        "\n",
        "print(bool_idx)"
      ]
    },
    {
      "cell_type": "code",
      "execution_count": null,
      "metadata": {
        "ExecuteTime": {
          "end_time": "2019-08-11T11:19:36.251614Z",
          "start_time": "2019-08-11T11:19:36.246654Z"
        },
        "colab": {
          "base_uri": "https://localhost:8080/"
        },
        "id": "u82m4-0FOL9t",
        "outputId": "fe61f0fc-2feb-4b4d-d7f0-b3daa926075a"
      },
      "outputs": [],
      "source": [
        "# We use boolean array indexing to construct a rank 1 array\n",
        "# consisting of the elements of a corresponding to the True values\n",
        "# of bool_idx\n",
        "print(a[bool_idx])\n",
        "\n",
        "# We can do all of the above in a single concise statement:\n",
        "print(a[a > 2])"
      ]
    },
    {
      "cell_type": "markdown",
      "metadata": {
        "id": "HJHVX5wLOL9u"
      },
      "source": [
        "For brevity we have left out a lot of details about numpy array indexing; if you want to know more you should read the documentation."
      ]
    },
    {
      "cell_type": "markdown",
      "metadata": {
        "id": "NVDPkvyROL9u"
      },
      "source": [
        "### Datatypes"
      ]
    },
    {
      "cell_type": "markdown",
      "metadata": {
        "id": "zkuXU_9zOL9u"
      },
      "source": [
        "Every numpy array is a grid of elements of the same type. Numpy provides a large set of numeric datatypes that you can use to construct arrays. Numpy tries to guess a datatype when you create an array, but functions that construct arrays usually also include an optional argument to explicitly specify the datatype. Here is an example:"
      ]
    },
    {
      "cell_type": "code",
      "execution_count": null,
      "metadata": {
        "ExecuteTime": {
          "end_time": "2019-08-11T11:20:03.344982Z",
          "start_time": "2019-08-11T11:20:03.340023Z"
        },
        "colab": {
          "base_uri": "https://localhost:8080/"
        },
        "id": "39S8c2tJOL9u",
        "outputId": "92266878-fd0b-46aa-813e-66bfc7e8369f"
      },
      "outputs": [],
      "source": [
        "x = np.array([1, 2])  # Let numpy choose the datatype\n",
        "y = np.array([1.0, 2.0])  # Let numpy choose the datatype\n",
        "z = np.array([1, 2], dtype=np.int64)  # Force a particular datatype\n",
        "\n",
        "print(x.dtype, y.dtype, z.dtype)"
      ]
    },
    {
      "cell_type": "markdown",
      "metadata": {
        "id": "7eyy3V5qOL9u"
      },
      "source": [
        "You can read all about numpy datatypes in the [documentation](http://docs.scipy.org/doc/numpy/reference/arrays.dtypes.html)."
      ]
    },
    {
      "cell_type": "markdown",
      "metadata": {
        "id": "ukprh7cAOL9u"
      },
      "source": [
        "### Array math"
      ]
    },
    {
      "cell_type": "markdown",
      "metadata": {
        "id": "LW8f5ngbOL9u"
      },
      "source": [
        "Basic mathematical functions operate elementwise on arrays, and are available both as operator overloads and as functions in the numpy module:"
      ]
    },
    {
      "cell_type": "code",
      "execution_count": null,
      "metadata": {
        "ExecuteTime": {
          "end_time": "2019-08-11T11:20:12.986432Z",
          "start_time": "2019-08-11T11:20:12.980974Z"
        },
        "colab": {
          "base_uri": "https://localhost:8080/"
        },
        "id": "IgLhsm4dOL9v",
        "outputId": "ce6d107f-f6f0-4da5-def6-800a8c3eb238"
      },
      "outputs": [],
      "source": [
        "x = np.array([[1,2],[3,4]], dtype=np.float64)\n",
        "y = np.array([[5,6],[7,8]], dtype=np.float64)\n",
        "\n",
        "# Elementwise sum; both produce the array\n",
        "print(x + y)\n",
        "print(np.add(x, y))"
      ]
    },
    {
      "cell_type": "code",
      "execution_count": null,
      "metadata": {
        "ExecuteTime": {
          "end_time": "2019-08-11T11:20:13.746868Z",
          "start_time": "2019-08-11T11:20:13.742404Z"
        },
        "colab": {
          "base_uri": "https://localhost:8080/"
        },
        "id": "MlL2iku5OL9v",
        "outputId": "f151e9cd-f4f6-4dd2-a273-1f5b3b151dc7"
      },
      "outputs": [],
      "source": [
        "# Elementwise difference; both produce the array\n",
        "print(x - y)\n",
        "print(np.subtract(x, y))"
      ]
    },
    {
      "cell_type": "code",
      "execution_count": null,
      "metadata": {
        "ExecuteTime": {
          "end_time": "2019-08-11T11:20:24.416499Z",
          "start_time": "2019-08-11T11:20:24.410059Z"
        },
        "colab": {
          "base_uri": "https://localhost:8080/"
        },
        "id": "izPVROIlOL9v",
        "outputId": "7bce2b06-7a6c-4504-de37-d34ac60ac053"
      },
      "outputs": [],
      "source": [
        "# Elementwise product; both produce the array\n",
        "print(x * y)\n",
        "print(np.multiply(x, y))"
      ]
    },
    {
      "cell_type": "code",
      "execution_count": null,
      "metadata": {
        "ExecuteTime": {
          "end_time": "2019-08-11T11:20:29.517190Z",
          "start_time": "2019-08-11T11:20:29.512229Z"
        },
        "colab": {
          "base_uri": "https://localhost:8080/"
        },
        "id": "HHH-2XwCOL9v",
        "outputId": "114e0dcf-1e6c-419e-a004-587a97321847"
      },
      "outputs": [],
      "source": [
        "# Elementwise division; both produce the array\n",
        "# [[ 0.2         0.33333333]\n",
        "#  [ 0.42857143  0.5       ]]\n",
        "print(x / y)\n",
        "print(np.divide(x, y))"
      ]
    },
    {
      "cell_type": "code",
      "execution_count": null,
      "metadata": {
        "ExecuteTime": {
          "end_time": "2019-08-11T11:20:38.098817Z",
          "start_time": "2019-08-11T11:20:38.095318Z"
        },
        "colab": {
          "base_uri": "https://localhost:8080/"
        },
        "id": "hpb1iZrbOL9v",
        "outputId": "d9acd343-71e9-4b81-c139-6494937c6a4e"
      },
      "outputs": [],
      "source": [
        "# Elementwise square root; produces the array\n",
        "# [[ 1.          1.41421356]\n",
        "#  [ 1.73205081  2.        ]]\n",
        "print(np.sqrt(x))"
      ]
    },
    {
      "cell_type": "markdown",
      "metadata": {
        "id": "GhQk2NwCOL9w"
      },
      "source": [
        "Note that unlike MATLAB, `*` is elementwise multiplication, not matrix multiplication. We instead use the dot function to compute inner products of vectors, to multiply a vector by a matrix, and to multiply matrices. dot is available both as a function in the numpy module and as an instance method of array objects:"
      ]
    },
    {
      "cell_type": "code",
      "execution_count": null,
      "metadata": {
        "ExecuteTime": {
          "end_time": "2019-08-11T11:20:40.787096Z",
          "start_time": "2019-08-11T11:20:40.781646Z"
        },
        "colab": {
          "base_uri": "https://localhost:8080/"
        },
        "id": "RoqxOUWUOL9w",
        "outputId": "ffdb0045-219f-43eb-e8cd-f2cd048eab56"
      },
      "outputs": [],
      "source": [
        "x = np.array([[1,2],[3,4]])\n",
        "y = np.array([[5,6],[7,8]])\n",
        "\n",
        "v = np.array([9,10])\n",
        "w = np.array([11, 12])\n",
        "\n",
        "# Inner product of vectors; both produce 219\n",
        "print(v.dot(w))\n",
        "print(np.dot(v, w))"
      ]
    },
    {
      "cell_type": "code",
      "execution_count": null,
      "metadata": {
        "ExecuteTime": {
          "end_time": "2019-08-11T11:20:41.598662Z",
          "start_time": "2019-08-11T11:20:41.595685Z"
        },
        "colab": {
          "base_uri": "https://localhost:8080/"
        },
        "id": "rVLk4VszOL9w",
        "outputId": "85184a59-8642-4734-86b9-8c991d5fae65"
      },
      "outputs": [],
      "source": [
        "# Matrix / vector product; both produce the rank 1 array [29 67]\n",
        "print(x.dot(v))\n",
        "print(np.dot(x, v))"
      ]
    },
    {
      "cell_type": "code",
      "execution_count": null,
      "metadata": {
        "ExecuteTime": {
          "end_time": "2019-08-11T11:20:42.601909Z",
          "start_time": "2019-08-11T11:20:42.597919Z"
        },
        "colab": {
          "base_uri": "https://localhost:8080/"
        },
        "id": "NoLSzVvtOL9w",
        "outputId": "dea96b85-a277-4eee-d226-394bddb7f687"
      },
      "outputs": [],
      "source": [
        "# Matrix / matrix product; both produce the rank 2 array\n",
        "# [[19 22]\n",
        "#  [43 50]]\n",
        "print(x.dot(y))\n",
        "print(np.dot(x, y))"
      ]
    },
    {
      "cell_type": "markdown",
      "metadata": {
        "id": "ab6gpUQKOL9w"
      },
      "source": [
        "Numpy provides many useful functions for performing computations on arrays; one of the most useful is `sum`:"
      ]
    },
    {
      "cell_type": "code",
      "execution_count": null,
      "metadata": {
        "ExecuteTime": {
          "end_time": "2019-08-11T11:20:44.469240Z",
          "start_time": "2019-08-11T11:20:44.461826Z"
        },
        "colab": {
          "base_uri": "https://localhost:8080/"
        },
        "id": "9IDEQ4psOL9w",
        "outputId": "0c96c612-5777-44cd-d643-44f7d3cd123e"
      },
      "outputs": [],
      "source": [
        "x = np.array([[1,2],[3,4]])\n",
        "\n",
        "print(np.sum(x))  # Compute sum of all elements; prints \"10\"\n",
        "print(np.sum(x, axis=0))  # Compute sum of each column; prints \"[4 6]\"\n",
        "print(np.sum(x, axis=1))  # Compute sum of each row; prints \"[3 7]\""
      ]
    },
    {
      "cell_type": "markdown",
      "metadata": {
        "id": "qfBAEk0xOL9x"
      },
      "source": [
        "You can find the full list of mathematical functions provided by numpy in the [documentation](http://docs.scipy.org/doc/numpy/reference/routines.math.html).\n",
        "\n",
        "Apart from computing mathematical functions using arrays, we frequently need to reshape or otherwise manipulate data in arrays. The simplest example of this type of operation is transposing a matrix; to transpose a matrix, simply use the T attribute of an array object:"
      ]
    },
    {
      "cell_type": "code",
      "execution_count": null,
      "metadata": {
        "ExecuteTime": {
          "end_time": "2019-08-11T11:20:46.330547Z",
          "start_time": "2019-08-11T11:20:46.326083Z"
        },
        "colab": {
          "base_uri": "https://localhost:8080/"
        },
        "id": "ug3sm2CcOL9x",
        "outputId": "4354df5d-0b46-47b7-d4b8-f967325b1a88"
      },
      "outputs": [],
      "source": [
        "print(x)\n",
        "print(x.T)"
      ]
    },
    {
      "cell_type": "code",
      "execution_count": null,
      "metadata": {
        "ExecuteTime": {
          "end_time": "2019-08-11T11:20:47.063537Z",
          "start_time": "2019-08-11T11:20:47.059046Z"
        },
        "colab": {
          "base_uri": "https://localhost:8080/"
        },
        "id": "WRF1dFqZOL91",
        "outputId": "ed5cae85-e9a4-4bc3-deff-f1e3bfef3583"
      },
      "outputs": [],
      "source": [
        "v = np.array([[1,2,3]])\n",
        "print(v) \n",
        "print(v.T)"
      ]
    },
    {
      "cell_type": "markdown",
      "metadata": {
        "id": "DceXyBYtOL91"
      },
      "source": [
        "### Broadcasting"
      ]
    },
    {
      "cell_type": "markdown",
      "metadata": {
        "id": "lQzqy2zAOL91"
      },
      "source": [
        "Broadcasting is a powerful mechanism that allows numpy to work with arrays of different shapes when performing arithmetic operations. Frequently we have a smaller array and a larger array, and we want to use the smaller array multiple times to perform some operation on the larger array.\n",
        "\n",
        "For example, suppose that we want to add a constant vector to each row of a matrix. We could do it like this:"
      ]
    },
    {
      "cell_type": "code",
      "execution_count": null,
      "metadata": {
        "ExecuteTime": {
          "end_time": "2019-08-11T11:20:53.849701Z",
          "start_time": "2019-08-11T11:20:53.844740Z"
        },
        "colab": {
          "base_uri": "https://localhost:8080/"
        },
        "id": "fiQBq8rCOL91",
        "outputId": "36c3b8c7-2f60-4d39-ee5d-571b31bb40b2"
      },
      "outputs": [],
      "source": [
        "# We will add the vector v to each row of the matrix x,\n",
        "# storing the result in the matrix y\n",
        "x = np.array([[1,2,3], [4,5,6], [7,8,9], [10, 11, 12]])\n",
        "v = np.array([1, 0, 1])\n",
        "y = np.empty_like(x)   # Create an empty matrix with the same shape as x\n",
        "\n",
        "# Add the vector v to each row of the matrix x with an explicit loop\n",
        "for i in range(4):\n",
        "    y[i, :] = x[i, :] + v\n",
        "\n",
        "print(y)"
      ]
    },
    {
      "cell_type": "markdown",
      "metadata": {
        "id": "RTDEklOkOL92"
      },
      "source": [
        "This works; however when the matrix `x` is very large, computing an explicit loop in Python could be slow. Note that adding the vector v to each row of the matrix `x` is equivalent to forming a matrix `vv` by stacking multiple copies of `v` vertically, then performing elementwise summation of `x` and `vv`. We could implement this approach like this:"
      ]
    },
    {
      "cell_type": "code",
      "execution_count": null,
      "metadata": {
        "ExecuteTime": {
          "end_time": "2019-08-11T11:20:55.172636Z",
          "start_time": "2019-08-11T11:20:55.168676Z"
        },
        "colab": {
          "base_uri": "https://localhost:8080/"
        },
        "id": "ZN9R7i42OL92",
        "outputId": "dbe7bde4-7ccd-486a-cc25-665e87861540"
      },
      "outputs": [],
      "source": [
        "vv = np.tile(v, (4, 1))  # Stack 4 copies of v on top of each other\n",
        "print(vv)                # Prints \"[[1 0 1]\n",
        "                         #          [1 0 1]\n",
        "                         #          [1 0 1]\n",
        "                         #          [1 0 1]]\""
      ]
    },
    {
      "cell_type": "code",
      "execution_count": null,
      "metadata": {
        "ExecuteTime": {
          "end_time": "2019-08-11T11:20:57.548073Z",
          "start_time": "2019-08-11T11:20:57.544598Z"
        },
        "colab": {
          "base_uri": "https://localhost:8080/"
        },
        "id": "dwGsrL35OL92",
        "outputId": "62352bb1-176a-4c17-b94a-106b1b04eeea"
      },
      "outputs": [],
      "source": [
        "y = x + vv  # Add x and vv elementwise\n",
        "print(y)"
      ]
    },
    {
      "cell_type": "markdown",
      "metadata": {
        "id": "JgjSR3raOL92"
      },
      "source": [
        "Numpy broadcasting allows us to perform this computation without actually creating multiple copies of v. Consider this version, using broadcasting:"
      ]
    },
    {
      "cell_type": "code",
      "execution_count": null,
      "metadata": {
        "ExecuteTime": {
          "end_time": "2019-08-11T11:20:58.727293Z",
          "start_time": "2019-08-11T11:20:58.722817Z"
        },
        "colab": {
          "base_uri": "https://localhost:8080/"
        },
        "id": "3qJMzvZZOL93",
        "outputId": "db435a47-be68-47a8-ec79-73ae26f8fb4d"
      },
      "outputs": [],
      "source": [
        "import numpy as np\n",
        "\n",
        "# We will add the vector v to each row of the matrix x,\n",
        "# storing the result in the matrix y\n",
        "x = np.array([[1,2,3], [4,5,6], [7,8,9], [10, 11, 12]])\n",
        "v = np.array([1, 0, 1])\n",
        "y = x + v  # Add v to each row of x using broadcasting\n",
        "print(y)"
      ]
    },
    {
      "cell_type": "markdown",
      "metadata": {
        "id": "2_lyVkiUOL93"
      },
      "source": [
        "The line `y = x + v` works even though `x` has shape `(4, 3)` and `v` has shape `(3,)` due to broadcasting; this line works as if v actually had shape `(4, 3)`, where each row was a copy of `v`, and the sum was performed elementwise.\n",
        "\n",
        "Broadcasting two arrays together follows these rules:\n",
        "\n",
        "1. If the arrays do not have the same rank, prepend the shape of the lower rank array with 1s until both shapes have the same length.\n",
        "2. The two arrays are said to be compatible in a dimension if they have the same size in the dimension, or if one of the arrays has size 1 in that dimension.\n",
        "3. The arrays can be broadcast together if they are compatible in all dimensions.\n",
        "4. After broadcasting, each array behaves as if it had shape equal to the elementwise maximum of shapes of the two input arrays.\n",
        "5. In any dimension where one array had size 1 and the other array had size greater than 1, the first array behaves as if it were copied along that dimension\n",
        "\n",
        "If this explanation does not make sense, try reading the explanation from the [documentation](http://docs.scipy.org/doc/numpy/user/basics.broadcasting.html) or this [explanation](http://wiki.scipy.org/EricsBroadcastingDoc).\n",
        "\n",
        "Functions that support broadcasting are known as universal functions. You can find the list of all universal functions in the [documentation](http://docs.scipy.org/doc/numpy/reference/ufuncs.html#available-ufuncs).\n",
        "\n",
        "Here are some applications of broadcasting:"
      ]
    },
    {
      "cell_type": "code",
      "execution_count": null,
      "metadata": {
        "ExecuteTime": {
          "end_time": "2019-08-11T11:21:00.148029Z",
          "start_time": "2019-08-11T11:21:00.141556Z"
        },
        "colab": {
          "base_uri": "https://localhost:8080/"
        },
        "id": "oFBPEQkPOL93",
        "outputId": "2c918f37-6d08-46f5-c7d3-c72e2806b2f6"
      },
      "outputs": [],
      "source": [
        "# Compute outer product of vectors\n",
        "v = np.array([1,2,3])  # v has shape (3,)\n",
        "w = np.array([4,5])    # w has shape (2,)\n",
        "# To compute an outer product, we first reshape v to be a column\n",
        "# vector of shape (3, 1); we can then broadcast it against w to yield\n",
        "# an output of shape (3, 2), which is the outer product of v and w:\n",
        "\n",
        "print(np.reshape(v, (3, 1)) * w)"
      ]
    },
    {
      "cell_type": "code",
      "execution_count": null,
      "metadata": {
        "ExecuteTime": {
          "end_time": "2019-08-11T11:21:00.869257Z",
          "start_time": "2019-08-11T11:21:00.864325Z"
        },
        "colab": {
          "base_uri": "https://localhost:8080/"
        },
        "id": "0GOTEtoDOL93",
        "outputId": "d7cb2baa-37ff-4ab8-b296-6e9af481c99f"
      },
      "outputs": [],
      "source": [
        "# Add a vector to each row of a matrix\n",
        "x = np.array([[1,2,3], [4,5,6]])\n",
        "# x has shape (2, 3) and v has shape (3,) so they broadcast to (2, 3),\n",
        "# giving the following matrix:\n",
        "\n",
        "print(x + v)"
      ]
    },
    {
      "cell_type": "code",
      "execution_count": null,
      "metadata": {
        "ExecuteTime": {
          "end_time": "2019-08-11T11:21:01.924733Z",
          "start_time": "2019-08-11T11:21:01.920792Z"
        },
        "colab": {
          "base_uri": "https://localhost:8080/"
        },
        "id": "ZGCJ55zvOL93",
        "outputId": "7019053a-15f6-4623-90c5-c231a8531053"
      },
      "outputs": [],
      "source": [
        "# Add a vector to each column of a matrix\n",
        "# x has shape (2, 3) and w has shape (2,).\n",
        "# If we transpose x then it has shape (3, 2) and can be broadcast\n",
        "# against w to yield a result of shape (3, 2); transposing this result\n",
        "# yields the final result of shape (2, 3) which is the matrix x with\n",
        "# the vector w added to each column. Gives the following matrix:\n",
        "\n",
        "print((x.T + w).T)"
      ]
    },
    {
      "cell_type": "code",
      "execution_count": null,
      "metadata": {
        "ExecuteTime": {
          "end_time": "2019-08-11T11:21:02.541457Z",
          "start_time": "2019-08-11T11:21:02.536993Z"
        },
        "colab": {
          "base_uri": "https://localhost:8080/"
        },
        "id": "NRUOZZsJOL94",
        "outputId": "22ccfef7-ec46-4bb7-e29d-d8fc6112cecd"
      },
      "outputs": [],
      "source": [
        "# Another solution is to reshape w to be a row vector of shape (2, 1);\n",
        "# we can then broadcast it directly against x to produce the same\n",
        "# output.\n",
        "print(x + np.reshape(w, (2, 1)))"
      ]
    },
    {
      "cell_type": "code",
      "execution_count": null,
      "metadata": {
        "ExecuteTime": {
          "end_time": "2019-08-11T11:21:03.344239Z",
          "start_time": "2019-08-11T11:21:03.340767Z"
        },
        "colab": {
          "base_uri": "https://localhost:8080/"
        },
        "id": "gmPZuGpkOL94",
        "outputId": "20e80caa-a5ab-4b99-91ec-718dc23fb9df"
      },
      "outputs": [],
      "source": [
        "# Multiply a matrix by a constant:\n",
        "# x has shape (2, 3). Numpy treats scalars as arrays of shape ();\n",
        "# these can be broadcast together to shape (2, 3), producing the\n",
        "# following array:\n",
        "print(x * 2)"
      ]
    },
    {
      "cell_type": "markdown",
      "metadata": {
        "id": "dLLyBdvnOL94"
      },
      "source": [
        "Broadcasting typically makes your code more concise and faster, so you should strive to use it where possible."
      ]
    },
    {
      "cell_type": "markdown",
      "metadata": {
        "id": "Iq9ebukTOL94"
      },
      "source": [
        "This brief overview has touched on many of the important things that you need to know about numpy, but is far from complete. Check out the [numpy reference](http://docs.scipy.org/doc/numpy/reference/) to find out much more about numpy."
      ]
    },
    {
      "cell_type": "markdown",
      "metadata": {
        "id": "HyUzP-XDOL94"
      },
      "source": [
        "## Matplotlib"
      ]
    },
    {
      "cell_type": "markdown",
      "metadata": {
        "id": "3_6RMPwxOL95"
      },
      "source": [
        "Matplotlib is a plotting library. In this section give a brief introduction to the `matplotlib.pyplot` module, which provides a plotting system useful for most types of plots you will need for this course."
      ]
    },
    {
      "cell_type": "code",
      "execution_count": null,
      "metadata": {
        "ExecuteTime": {
          "end_time": "2019-08-11T11:21:07.187805Z",
          "start_time": "2019-08-11T11:21:06.622688Z"
        },
        "id": "HFNe7PjrOL95"
      },
      "outputs": [],
      "source": [
        "import matplotlib.pyplot as plt"
      ]
    },
    {
      "cell_type": "markdown",
      "metadata": {
        "id": "aGN-7kGYOL95"
      },
      "source": [
        "By running this special iPython command, we will be displaying plots inline:"
      ]
    },
    {
      "cell_type": "code",
      "execution_count": null,
      "metadata": {
        "ExecuteTime": {
          "end_time": "2019-08-11T11:21:09.037862Z",
          "start_time": "2019-08-11T11:21:09.029748Z"
        },
        "id": "7HPIXTCEOL95"
      },
      "outputs": [],
      "source": [
        "%matplotlib inline"
      ]
    },
    {
      "cell_type": "markdown",
      "metadata": {
        "id": "XKASzndxOL95"
      },
      "source": [
        "### Plotting"
      ]
    },
    {
      "cell_type": "markdown",
      "metadata": {
        "id": "UtOaxe7POL95"
      },
      "source": [
        "The most important function in `matplotlib` is plot, which allows you to plot 2D data. Here is a simple example:"
      ]
    },
    {
      "cell_type": "code",
      "execution_count": null,
      "metadata": {
        "ExecuteTime": {
          "end_time": "2019-08-11T11:21:15.977310Z",
          "start_time": "2019-08-11T11:21:15.787811Z"
        },
        "colab": {
          "base_uri": "https://localhost:8080/"
        },
        "id": "pOWyqJLTOL95",
        "outputId": "9d6facfe-09ee-422d-b88a-19e91025d677"
      },
      "outputs": [],
      "source": [
        "# Compute the x and y coordinates for points on a sine curve\n",
        "x = np.arange(0, 3 * np.pi, 0.1)\n",
        "y = np.sin(x)\n",
        "\n",
        "# Plot the points using matplotlib\n",
        "plt.plot(x, y)"
      ]
    },
    {
      "cell_type": "markdown",
      "metadata": {
        "id": "6CbsX1Q-OL96"
      },
      "source": [
        "With just a little bit of extra work we can easily plot multiple lines at once, and add a title, legend, and axis labels:"
      ]
    },
    {
      "cell_type": "code",
      "execution_count": null,
      "metadata": {
        "ExecuteTime": {
          "end_time": "2019-08-11T11:21:18.540317Z",
          "start_time": "2019-08-11T11:21:18.382671Z"
        },
        "colab": {
          "base_uri": "https://localhost:8080/"
        },
        "id": "zJP0uGodOL96",
        "outputId": "3e2bdb18-8326-4ee3-93cf-71d800361827"
      },
      "outputs": [],
      "source": [
        "y_sin = np.sin(x)\n",
        "y_cos = np.cos(x)\n",
        "\n",
        "# Plot the points using matplotlib\n",
        "plt.plot(x, y_sin)\n",
        "plt.plot(x, y_cos)\n",
        "plt.xlabel('x axis label')\n",
        "plt.ylabel('y axis label')\n",
        "plt.title('Sine and Cosine')\n",
        "plt.legend(['Sine', 'Cosine'])"
      ]
    },
    {
      "cell_type": "markdown",
      "metadata": {
        "id": "v12hVr7jOL96"
      },
      "source": [
        "### Subplots "
      ]
    },
    {
      "cell_type": "markdown",
      "metadata": {
        "id": "1WXMvUdJOL96"
      },
      "source": [
        "You can plot different things in the same figure using the subplot function. Here is an example:"
      ]
    },
    {
      "cell_type": "code",
      "execution_count": null,
      "metadata": {
        "ExecuteTime": {
          "end_time": "2019-08-11T11:21:23.350571Z",
          "start_time": "2019-08-11T11:21:23.188414Z"
        },
        "colab": {
          "base_uri": "https://localhost:8080/"
        },
        "id": "RDT0-IwkOL96",
        "outputId": "0cc0b237-d00a-4dca-ab2b-29f7fb008924"
      },
      "outputs": [],
      "source": [
        "# Compute the x and y coordinates for points on sine and cosine curves\n",
        "x = np.arange(0, 3 * np.pi, 0.1)\n",
        "y_sin = np.sin(x)\n",
        "y_cos = np.cos(x)\n",
        "\n",
        "# Set up a subplot grid that has height 2 and width 1,\n",
        "# and set the first such subplot as active.\n",
        "plt.subplot(2, 1, 1)\n",
        "\n",
        "# Make the first plot\n",
        "plt.plot(x, y_sin)\n",
        "plt.title('Sine')\n",
        "\n",
        "# Set the second subplot as active, and make the second plot.\n",
        "plt.subplot(2, 1, 2)\n",
        "plt.plot(x, y_cos)\n",
        "plt.title('Cosine')\n",
        "\n",
        "# Show the figure.\n",
        "plt.show()"
      ]
    },
    {
      "cell_type": "markdown",
      "metadata": {
        "id": "3zaSRZc2OL96"
      },
      "source": [
        "You can read much more about the `subplot` function in the [documentation](http://matplotlib.org/api/pyplot_api.html#matplotlib.pyplot.subplot)."
      ]
    },
    {
      "cell_type": "markdown",
      "metadata": {
        "id": "xqqETuS-ANji"
      },
      "source": [
        "# LAB 1C - Pandas\n",
        "\n",
        "## Why pandas?\n",
        "\n",
        "NumPy is great. But it lacks a few things that are conducive to doing statisitcal analysis. By building on top of NumPy, pandas provides\n",
        "\n",
        "- labeled arrays\n",
        "- heterogenous data types within a table\n",
        "- \"better\" missing data handling\n",
        "- convenient methods (`groupby`, `rolling`, `resample`)\n",
        "- more data types (Categorical, Datetime)\n",
        "\n",
        "## Data Structures\n",
        "\n",
        "This is the typical starting point for any intro to pandas.\n",
        "We'll follow suit.\n",
        "\n",
        "### The DataFrame\n",
        "\n",
        "Here we have the workhorse data structure for pandas.\n",
        "It's an in-memory table holding your data, and provides a few conviniences over lists of lists or NumPy arrays."
      ]
    },
    {
      "cell_type": "code",
      "execution_count": null,
      "metadata": {
        "ExecuteTime": {
          "end_time": "2019-08-13T04:21:54.906692Z",
          "start_time": "2019-08-13T04:21:54.318945Z"
        },
        "id": "dBvq9B1QANjn"
      },
      "outputs": [],
      "source": [
        "import numpy as np\n",
        "import pandas as pd"
      ]
    },
    {
      "cell_type": "code",
      "execution_count": null,
      "metadata": {
        "ExecuteTime": {
          "end_time": "2019-08-13T04:21:54.940899Z",
          "start_time": "2019-08-13T04:21:54.910148Z"
        },
        "colab": {
          "base_uri": "https://localhost:8080/",
          "height": 143
        },
        "id": "g-R2S72lANjo",
        "outputId": "88238b32-e66b-46a6-e613-a468f99d1c1b"
      },
      "outputs": [],
      "source": [
        "# Many ways to construct a DataFrame\n",
        "# We pass a dict of {column name: column values}\n",
        "np.random.seed(42)\n",
        "df = pd.DataFrame({'A': [1, 2, 3], \n",
        "                   'B': [True, True, False],\n",
        "                   'C': np.random.randn(3)},\n",
        "                  index=['a', 'b', 'c'])  # also this weird index thing\n",
        "df"
      ]
    },
    {
      "cell_type": "markdown",
      "metadata": {
        "id": "GQqGu1hTANjp"
      },
      "source": [
        "Notice that we can store a column of intergers, a column of booleans, and a column of floats in the same `DataFrame`."
      ]
    },
    {
      "cell_type": "markdown",
      "metadata": {
        "id": "P3x2JUNAH3fu"
      },
      "source": [
        "### Indexing\n",
        "\n",
        "Our first improvement over numpy arrays is labeled indexing. We can select subsets by column, row, or both. Column selection uses the regular python `__getitem__` machinery. Pass in a single column label `'A'` or a list of labels `['A', 'C']` to select subsets of the original `DataFrame`."
      ]
    },
    {
      "cell_type": "code",
      "execution_count": null,
      "metadata": {
        "ExecuteTime": {
          "end_time": "2019-08-13T04:21:54.948835Z",
          "start_time": "2019-08-13T04:21:54.943380Z"
        },
        "colab": {
          "base_uri": "https://localhost:8080/"
        },
        "id": "dD_UgUi0H3fu",
        "outputId": "e6243abe-2fab-4248-9db9-0845395f8479"
      },
      "outputs": [],
      "source": [
        "# Single column, reduces to a Series\n",
        "df['A']"
      ]
    },
    {
      "cell_type": "code",
      "execution_count": null,
      "metadata": {
        "ExecuteTime": {
          "end_time": "2019-08-13T04:21:54.964224Z",
          "start_time": "2019-08-13T04:21:54.951316Z"
        },
        "colab": {
          "base_uri": "https://localhost:8080/"
        },
        "id": "pzWqMeXgH3fv",
        "outputId": "265ef745-111a-492a-cb4a-7c5665c8d385"
      },
      "outputs": [],
      "source": [
        "cols = ['A', 'C']\n",
        "df[cols]"
      ]
    },
    {
      "cell_type": "markdown",
      "metadata": {
        "id": "hxMOxq7LH3fw"
      },
      "source": [
        "For row-wise selection, use the special `.loc` accessor."
      ]
    },
    {
      "cell_type": "code",
      "execution_count": null,
      "metadata": {
        "ExecuteTime": {
          "end_time": "2019-08-13T04:21:54.992483Z",
          "start_time": "2019-08-13T04:21:54.967189Z"
        },
        "colab": {
          "base_uri": "https://localhost:8080/"
        },
        "id": "shtq40tNH3fx",
        "outputId": "d5c3575e-bc8d-480c-87e0-ea5002dbadde"
      },
      "outputs": [],
      "source": [
        "df.loc[['a', 'b']]"
      ]
    },
    {
      "cell_type": "markdown",
      "metadata": {
        "id": "zWNo858dH3fy"
      },
      "source": [
        "You can use ranges to select rows or columns."
      ]
    },
    {
      "cell_type": "code",
      "execution_count": null,
      "metadata": {
        "ExecuteTime": {
          "end_time": "2019-08-13T04:21:55.013319Z",
          "start_time": "2019-08-13T04:21:54.994964Z"
        },
        "colab": {
          "base_uri": "https://localhost:8080/"
        },
        "id": "ojtjEG_IH3fy",
        "outputId": "a63f2170-a664-4bf5-d03c-1744d37093fe"
      },
      "outputs": [],
      "source": [
        "df.loc['a':'b']"
      ]
    },
    {
      "cell_type": "markdown",
      "metadata": {
        "id": "bERHoB1VH3fz"
      },
      "source": [
        "Notice that the slice is *inclusive* on both sides,  unlike your typical slicing of a list. Sometimes, you'd rather slice by *position* instead of label. `.iloc` has you covered:"
      ]
    },
    {
      "cell_type": "code",
      "execution_count": null,
      "metadata": {
        "ExecuteTime": {
          "end_time": "2019-08-13T04:21:55.028691Z",
          "start_time": "2019-08-13T04:21:55.014804Z"
        },
        "colab": {
          "base_uri": "https://localhost:8080/"
        },
        "id": "4-2ugru8H3fz",
        "outputId": "ca859a57-9e16-424e-f365-b526508bbf84"
      },
      "outputs": [],
      "source": [
        "df.iloc[[0, 2]]"
      ]
    },
    {
      "cell_type": "code",
      "execution_count": null,
      "metadata": {
        "ExecuteTime": {
          "end_time": "2019-08-13T04:21:55.043076Z",
          "start_time": "2019-08-13T04:21:55.030676Z"
        },
        "colab": {
          "base_uri": "https://localhost:8080/"
        },
        "id": "-12L5NozH3f0",
        "outputId": "cad25966-be3b-432a-f2a6-40e8ab12d7b7"
      },
      "outputs": [],
      "source": [
        "df.iloc[:2]"
      ]
    },
    {
      "cell_type": "markdown",
      "metadata": {
        "id": "xgaLssbpH3f0"
      },
      "source": [
        "This follows the usual python slicing rules: closed on the left, open on the right.\n",
        "\n",
        "As I mentioned, you can slice both rows and columns. Use `.loc` for label or `.iloc` for position indexing."
      ]
    },
    {
      "cell_type": "code",
      "execution_count": null,
      "metadata": {
        "ExecuteTime": {
          "end_time": "2019-08-13T04:21:55.053988Z",
          "start_time": "2019-08-13T04:21:55.045556Z"
        },
        "colab": {
          "base_uri": "https://localhost:8080/"
        },
        "id": "DnswWY2HH3f1",
        "outputId": "b97bf38b-7934-4f27-cf3d-a19c9376092a"
      },
      "outputs": [],
      "source": [
        "df.loc['a', 'B'], df.iloc[0, 1]"
      ]
    },
    {
      "cell_type": "markdown",
      "metadata": {
        "id": "Dww7My-3H3f1"
      },
      "source": [
        "Pandas, like NumPy, will reduce dimensions when possible. Select a single column and you get back `Series` (see below). Select a single row and single column, you get a scalar.\n",
        "\n",
        "You can get pretty fancy:"
      ]
    },
    {
      "cell_type": "code",
      "execution_count": null,
      "metadata": {
        "ExecuteTime": {
          "end_time": "2019-08-13T04:21:55.068890Z",
          "start_time": "2019-08-13T04:21:55.056468Z"
        },
        "colab": {
          "base_uri": "https://localhost:8080/"
        },
        "id": "VomCsXOmH3f2",
        "outputId": "dc1dfdb4-6aa5-4648-a21a-3e3c099247a6"
      },
      "outputs": [],
      "source": [
        "df.loc['a':'b', ['A', 'C']]"
      ]
    },
    {
      "cell_type": "markdown",
      "metadata": {
        "id": "bbOdLX6yANj1"
      },
      "source": [
        "## Loading Data"
      ]
    },
    {
      "cell_type": "code",
      "execution_count": null,
      "metadata": {
        "ExecuteTime": {
          "end_time": "2019-08-13T04:21:55.289739Z",
          "start_time": "2019-08-13T04:21:55.240058Z"
        },
        "colab": {
          "base_uri": "https://localhost:8080/",
          "height": 530
        },
        "id": "vA4D1RH7ANj1",
        "outputId": "eb361252-b2d2-4de7-9e9a-57418997208e"
      },
      "outputs": [],
      "source": [
        "df = pd.read_csv('beer_subset.csv.gz', parse_dates=['time'], compression='gzip')\n",
        "review_cols = ['review_appearance', 'review_aroma', 'review_overall',\n",
        "               'review_palate', 'review_taste']\n",
        "df.head()"
      ]
    }
  ],
  "metadata": {
    "colab": {
      "provenance": []
    },
    "kernelspec": {
      "display_name": "Python 3.8.8 ('base')",
      "language": "python",
      "name": "python3"
    },
    "language_info": {
      "codemirror_mode": {
        "name": "ipython",
        "version": 3
      },
      "file_extension": ".py",
      "mimetype": "text/x-python",
      "name": "python",
      "nbconvert_exporter": "python",
      "pygments_lexer": "ipython3",
      "version": "3.8.8"
    },
    "toc": {
      "base_numbering": 1,
      "nav_menu": {},
      "number_sections": true,
      "sideBar": true,
      "skip_h1_title": false,
      "title_cell": "Table of Contents",
      "title_sidebar": "Contents",
      "toc_cell": false,
      "toc_position": {},
      "toc_section_display": true,
      "toc_window_display": true
    },
    "varInspector": {
      "cols": {
        "lenName": 16,
        "lenType": 16,
        "lenVar": 40
      },
      "kernels_config": {
        "python": {
          "delete_cmd_postfix": "",
          "delete_cmd_prefix": "del ",
          "library": "var_list.py",
          "varRefreshCmd": "print(var_dic_list())"
        },
        "r": {
          "delete_cmd_postfix": ") ",
          "delete_cmd_prefix": "rm(",
          "library": "var_list.r",
          "varRefreshCmd": "cat(var_dic_list()) "
        }
      },
      "types_to_exclude": [
        "module",
        "function",
        "builtin_function_or_method",
        "instance",
        "_Feature"
      ],
      "window_display": false
    },
    "vscode": {
      "interpreter": {
        "hash": "f90ec5ed11b79a7bedf16a37713a799f28d64060d551adebcd3b79bf35d634d4"
      }
    }
  },
  "nbformat": 4,
  "nbformat_minor": 0
}
